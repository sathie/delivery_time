{
 "cells": [
  {
   "cell_type": "markdown",
   "id": "a51feeec",
   "metadata": {},
   "source": [
    "# Data Exploration"
   ]
  },
  {
   "cell_type": "code",
   "execution_count": 243,
   "id": "8801f68b",
   "metadata": {},
   "outputs": [],
   "source": [
    "import numpy as np\n",
    "import pandas as pd\n",
    "import seaborn as sns\n",
    "sns.set_theme()"
   ]
  },
  {
   "cell_type": "markdown",
   "id": "b3217af3",
   "metadata": {},
   "source": [
    "## Load data"
   ]
  },
  {
   "cell_type": "code",
   "execution_count": 244,
   "id": "e6cd6555",
   "metadata": {},
   "outputs": [
    {
     "name": "stdout",
     "output_type": "stream",
     "text": [
      "Index(['ID', 'Delivery_person_ID', 'Delivery_person_Age',\n",
      "       'Delivery_person_Ratings', 'Restaurant_latitude',\n",
      "       'Restaurant_longitude', 'Delivery_location_latitude',\n",
      "       'Delivery_location_longitude', 'Type_of_order', 'Type_of_vehicle',\n",
      "       'Time_taken(min)'],\n",
      "      dtype='object')\n"
     ]
    },
    {
     "data": {
      "text/html": [
       "<div>\n",
       "<style scoped>\n",
       "    .dataframe tbody tr th:only-of-type {\n",
       "        vertical-align: middle;\n",
       "    }\n",
       "\n",
       "    .dataframe tbody tr th {\n",
       "        vertical-align: top;\n",
       "    }\n",
       "\n",
       "    .dataframe thead th {\n",
       "        text-align: right;\n",
       "    }\n",
       "</style>\n",
       "<table border=\"1\" class=\"dataframe\">\n",
       "  <thead>\n",
       "    <tr style=\"text-align: right;\">\n",
       "      <th></th>\n",
       "      <th>Delivery_person_Age</th>\n",
       "      <th>Delivery_person_Ratings</th>\n",
       "      <th>Restaurant_latitude</th>\n",
       "      <th>Restaurant_longitude</th>\n",
       "      <th>Delivery_location_latitude</th>\n",
       "      <th>Delivery_location_longitude</th>\n",
       "      <th>Time_taken(min)</th>\n",
       "    </tr>\n",
       "  </thead>\n",
       "  <tbody>\n",
       "    <tr>\n",
       "      <th>count</th>\n",
       "      <td>45593.000000</td>\n",
       "      <td>45593.000000</td>\n",
       "      <td>45593.000000</td>\n",
       "      <td>45593.000000</td>\n",
       "      <td>45593.000000</td>\n",
       "      <td>45593.000000</td>\n",
       "      <td>45593.000000</td>\n",
       "    </tr>\n",
       "    <tr>\n",
       "      <th>mean</th>\n",
       "      <td>29.544075</td>\n",
       "      <td>4.632367</td>\n",
       "      <td>17.017729</td>\n",
       "      <td>70.231332</td>\n",
       "      <td>17.465186</td>\n",
       "      <td>70.845702</td>\n",
       "      <td>26.294607</td>\n",
       "    </tr>\n",
       "    <tr>\n",
       "      <th>std</th>\n",
       "      <td>5.696793</td>\n",
       "      <td>0.327708</td>\n",
       "      <td>8.185109</td>\n",
       "      <td>22.883647</td>\n",
       "      <td>7.335122</td>\n",
       "      <td>21.118812</td>\n",
       "      <td>9.383806</td>\n",
       "    </tr>\n",
       "    <tr>\n",
       "      <th>min</th>\n",
       "      <td>15.000000</td>\n",
       "      <td>1.000000</td>\n",
       "      <td>-30.905562</td>\n",
       "      <td>-88.366217</td>\n",
       "      <td>0.010000</td>\n",
       "      <td>0.010000</td>\n",
       "      <td>10.000000</td>\n",
       "    </tr>\n",
       "    <tr>\n",
       "      <th>25%</th>\n",
       "      <td>25.000000</td>\n",
       "      <td>4.600000</td>\n",
       "      <td>12.933284</td>\n",
       "      <td>73.170000</td>\n",
       "      <td>12.988453</td>\n",
       "      <td>73.280000</td>\n",
       "      <td>19.000000</td>\n",
       "    </tr>\n",
       "    <tr>\n",
       "      <th>50%</th>\n",
       "      <td>29.000000</td>\n",
       "      <td>4.700000</td>\n",
       "      <td>18.546947</td>\n",
       "      <td>75.898497</td>\n",
       "      <td>18.633934</td>\n",
       "      <td>76.002574</td>\n",
       "      <td>26.000000</td>\n",
       "    </tr>\n",
       "    <tr>\n",
       "      <th>75%</th>\n",
       "      <td>34.000000</td>\n",
       "      <td>4.800000</td>\n",
       "      <td>22.728163</td>\n",
       "      <td>78.044095</td>\n",
       "      <td>22.785049</td>\n",
       "      <td>78.107044</td>\n",
       "      <td>32.000000</td>\n",
       "    </tr>\n",
       "    <tr>\n",
       "      <th>max</th>\n",
       "      <td>50.000000</td>\n",
       "      <td>6.000000</td>\n",
       "      <td>30.914057</td>\n",
       "      <td>88.433452</td>\n",
       "      <td>31.054057</td>\n",
       "      <td>88.563452</td>\n",
       "      <td>54.000000</td>\n",
       "    </tr>\n",
       "  </tbody>\n",
       "</table>\n",
       "</div>"
      ],
      "text/plain": [
       "       Delivery_person_Age  Delivery_person_Ratings  Restaurant_latitude  \\\n",
       "count         45593.000000             45593.000000         45593.000000   \n",
       "mean             29.544075                 4.632367            17.017729   \n",
       "std               5.696793                 0.327708             8.185109   \n",
       "min              15.000000                 1.000000           -30.905562   \n",
       "25%              25.000000                 4.600000            12.933284   \n",
       "50%              29.000000                 4.700000            18.546947   \n",
       "75%              34.000000                 4.800000            22.728163   \n",
       "max              50.000000                 6.000000            30.914057   \n",
       "\n",
       "       Restaurant_longitude  Delivery_location_latitude  \\\n",
       "count          45593.000000                45593.000000   \n",
       "mean              70.231332                   17.465186   \n",
       "std               22.883647                    7.335122   \n",
       "min              -88.366217                    0.010000   \n",
       "25%               73.170000                   12.988453   \n",
       "50%               75.898497                   18.633934   \n",
       "75%               78.044095                   22.785049   \n",
       "max               88.433452                   31.054057   \n",
       "\n",
       "       Delivery_location_longitude  Time_taken(min)  \n",
       "count                 45593.000000     45593.000000  \n",
       "mean                     70.845702        26.294607  \n",
       "std                      21.118812         9.383806  \n",
       "min                       0.010000        10.000000  \n",
       "25%                      73.280000        19.000000  \n",
       "50%                      76.002574        26.000000  \n",
       "75%                      78.107044        32.000000  \n",
       "max                      88.563452        54.000000  "
      ]
     },
     "execution_count": 244,
     "metadata": {},
     "output_type": "execute_result"
    }
   ],
   "source": [
    "df = pd.read_csv(\"data/deliverytime.csv\")\n",
    "\n",
    "print(df.columns)\n",
    "\n",
    "df.describe()"
   ]
  },
  {
   "cell_type": "markdown",
   "id": "c90d3d02",
   "metadata": {},
   "source": [
    "Some of the column names aren't great (e.g. \"Time_taken(min)\"). Let's rename them first."
   ]
  },
  {
   "cell_type": "code",
   "execution_count": 245,
   "id": "58c71fd3",
   "metadata": {},
   "outputs": [
    {
     "name": "stdout",
     "output_type": "stream",
     "text": [
      "['id', 'delivery_person_id', 'delivery_person_age', 'delivery_person_ratings', 'restaurant_latitude', 'restaurant_longitude', 'delivery_location_latitude', 'delivery_location_longitude', 'type_of_order', 'type_of_vehicle', 'time_taken']\n"
     ]
    }
   ],
   "source": [
    "cols = df.columns.tolist()\n",
    "cols[-1] = \"time_taken\"\n",
    "cols = [col.lower() for col in cols]\n",
    "df.columns = cols\n",
    "print(cols)"
   ]
  },
  {
   "cell_type": "markdown",
   "id": "4b728371",
   "metadata": {},
   "source": [
    "## Missing values"
   ]
  },
  {
   "cell_type": "code",
   "execution_count": 246,
   "id": "8bb44765",
   "metadata": {},
   "outputs": [
    {
     "data": {
      "text/plain": [
       "id                             0\n",
       "delivery_person_id             0\n",
       "delivery_person_age            0\n",
       "delivery_person_ratings        0\n",
       "restaurant_latitude            0\n",
       "restaurant_longitude           0\n",
       "delivery_location_latitude     0\n",
       "delivery_location_longitude    0\n",
       "type_of_order                  0\n",
       "type_of_vehicle                0\n",
       "time_taken                     0\n",
       "dtype: int64"
      ]
     },
     "execution_count": 246,
     "metadata": {},
     "output_type": "execute_result"
    }
   ],
   "source": [
    "df.isnull().sum()"
   ]
  },
  {
   "cell_type": "markdown",
   "id": "c6783e6f",
   "metadata": {},
   "source": [
    "There are no missing values present in the dataset, so there is no need to impute or to drop any columns or rows."
   ]
  },
  {
   "cell_type": "markdown",
   "id": "622024d6",
   "metadata": {},
   "source": [
    "## Dependent variable"
   ]
  },
  {
   "cell_type": "code",
   "execution_count": 247,
   "id": "5a3a8421",
   "metadata": {},
   "outputs": [
    {
     "name": "stdout",
     "output_type": "stream",
     "text": [
      "Average delivery time: 26.29460662821047\n",
      "Median delivery time: 26.0\n"
     ]
    },
    {
     "data": {
      "text/plain": [
       "<matplotlib.legend.Legend at 0x7f9692638370>"
      ]
     },
     "execution_count": 247,
     "metadata": {},
     "output_type": "execute_result"
    },
    {
     "data": {
      "image/png": "[encoded data removed]",
      "text/plain": [
       "<Figure size 432x288 with 1 Axes>"
      ]
     },
     "metadata": {},
     "output_type": "display_data"
    }
   ],
   "source": [
    "avg_time = df.time_taken.mean()\n",
    "median_time = df.time_taken.median()\n",
    "print(f\"Average delivery time: {avg_time}\")\n",
    "print(f\"Median delivery time: {median_time}\")\n",
    "hist = sns.histplot(df.time_taken)\n",
    "hist.vlines(avg_time, 0, 2250, color = \"black\", label = \"Avg. Time\")\n",
    "hist.vlines(median_time, 0, 2250, color = \"green\", label = \"Median Time\")\n",
    "hist.set(xlabel = \"Time taken\")\n",
    "hist.legend()"
   ]
  },
  {
   "cell_type": "markdown",
   "id": "72bd1e7c",
   "metadata": {},
   "source": [
    "The distribution has a positive skew, and the mean is slightly above the median. The fastest deliveries take only ten minutes, the slowest 54 minutes."
   ]
  },
  {
   "cell_type": "markdown",
   "id": "56c6bf4c",
   "metadata": {},
   "source": [
    "## Categorical independent variables"
   ]
  },
  {
   "cell_type": "code",
   "execution_count": 248,
   "id": "10cfb025",
   "metadata": {},
   "outputs": [
    {
     "data": {
      "text/html": [
       "<div>\n",
       "<style scoped>\n",
       "    .dataframe tbody tr th:only-of-type {\n",
       "        vertical-align: middle;\n",
       "    }\n",
       "\n",
       "    .dataframe tbody tr th {\n",
       "        vertical-align: top;\n",
       "    }\n",
       "\n",
       "    .dataframe thead th {\n",
       "        text-align: right;\n",
       "    }\n",
       "</style>\n",
       "<table border=\"1\" class=\"dataframe\">\n",
       "  <thead>\n",
       "    <tr style=\"text-align: right;\">\n",
       "      <th></th>\n",
       "      <th>id</th>\n",
       "      <th>delivery_person_id</th>\n",
       "      <th>type_of_order</th>\n",
       "      <th>type_of_vehicle</th>\n",
       "    </tr>\n",
       "  </thead>\n",
       "  <tbody>\n",
       "    <tr>\n",
       "      <th>0</th>\n",
       "      <td>4607</td>\n",
       "      <td>INDORES13DEL02</td>\n",
       "      <td>Snack</td>\n",
       "      <td>motorcycle</td>\n",
       "    </tr>\n",
       "    <tr>\n",
       "      <th>1</th>\n",
       "      <td>B379</td>\n",
       "      <td>BANGRES18DEL02</td>\n",
       "      <td>Snack</td>\n",
       "      <td>scooter</td>\n",
       "    </tr>\n",
       "    <tr>\n",
       "      <th>2</th>\n",
       "      <td>5D6D</td>\n",
       "      <td>BANGRES19DEL01</td>\n",
       "      <td>Drinks</td>\n",
       "      <td>motorcycle</td>\n",
       "    </tr>\n",
       "    <tr>\n",
       "      <th>3</th>\n",
       "      <td>7A6A</td>\n",
       "      <td>COIMBRES13DEL02</td>\n",
       "      <td>Buffet</td>\n",
       "      <td>motorcycle</td>\n",
       "    </tr>\n",
       "    <tr>\n",
       "      <th>4</th>\n",
       "      <td>70A2</td>\n",
       "      <td>CHENRES12DEL01</td>\n",
       "      <td>Snack</td>\n",
       "      <td>scooter</td>\n",
       "    </tr>\n",
       "  </tbody>\n",
       "</table>\n",
       "</div>"
      ],
      "text/plain": [
       "     id delivery_person_id type_of_order type_of_vehicle\n",
       "0  4607     INDORES13DEL02        Snack      motorcycle \n",
       "1  B379     BANGRES18DEL02        Snack         scooter \n",
       "2  5D6D     BANGRES19DEL01       Drinks      motorcycle \n",
       "3  7A6A    COIMBRES13DEL02       Buffet      motorcycle \n",
       "4  70A2     CHENRES12DEL01        Snack         scooter "
      ]
     },
     "execution_count": 248,
     "metadata": {},
     "output_type": "execute_result"
    }
   ],
   "source": [
    "cat_cols = df.select_dtypes(include='object')\n",
    "cat_cols.head()"
   ]
  },
  {
   "cell_type": "markdown",
   "id": "85bb0575",
   "metadata": {},
   "source": [
    "There are four categorical variables: delivery id, delivery person ID, the type of order and the type of vehicle. The id is largely meaningless, but it does seem to contain a restaurant ID."
   ]
  },
  {
   "cell_type": "code",
   "execution_count": 249,
   "id": "de7f4bc3",
   "metadata": {},
   "outputs": [
    {
     "name": "stdout",
     "output_type": "stream",
     "text": [
      "418\n"
     ]
    },
    {
     "data": {
      "text/html": [
       "<div>\n",
       "<style scoped>\n",
       "    .dataframe tbody tr th:only-of-type {\n",
       "        vertical-align: middle;\n",
       "    }\n",
       "\n",
       "    .dataframe tbody tr th {\n",
       "        vertical-align: top;\n",
       "    }\n",
       "\n",
       "    .dataframe thead th {\n",
       "        text-align: right;\n",
       "    }\n",
       "</style>\n",
       "<table border=\"1\" class=\"dataframe\">\n",
       "  <thead>\n",
       "    <tr style=\"text-align: right;\">\n",
       "      <th></th>\n",
       "      <th>restaurant</th>\n",
       "      <th>restaurant_latitude</th>\n",
       "      <th>restaurant_longitude</th>\n",
       "    </tr>\n",
       "  </thead>\n",
       "  <tbody>\n",
       "    <tr>\n",
       "      <th>0</th>\n",
       "      <td>INDORES13</td>\n",
       "      <td>22.745049</td>\n",
       "      <td>75.892471</td>\n",
       "    </tr>\n",
       "    <tr>\n",
       "      <th>11859</th>\n",
       "      <td>INDORES13</td>\n",
       "      <td>22.745049</td>\n",
       "      <td>75.892471</td>\n",
       "    </tr>\n",
       "    <tr>\n",
       "      <th>12357</th>\n",
       "      <td>INDORES13</td>\n",
       "      <td>22.745049</td>\n",
       "      <td>75.892471</td>\n",
       "    </tr>\n",
       "    <tr>\n",
       "      <th>14807</th>\n",
       "      <td>INDORES13</td>\n",
       "      <td>22.745049</td>\n",
       "      <td>75.892471</td>\n",
       "    </tr>\n",
       "    <tr>\n",
       "      <th>12346</th>\n",
       "      <td>INDORES13</td>\n",
       "      <td>22.745049</td>\n",
       "      <td>75.892471</td>\n",
       "    </tr>\n",
       "    <tr>\n",
       "      <th>...</th>\n",
       "      <td>...</td>\n",
       "      <td>...</td>\n",
       "      <td>...</td>\n",
       "    </tr>\n",
       "    <tr>\n",
       "      <th>17549</th>\n",
       "      <td>PUNERES17</td>\n",
       "      <td>18.530963</td>\n",
       "      <td>73.828972</td>\n",
       "    </tr>\n",
       "    <tr>\n",
       "      <th>3759</th>\n",
       "      <td>PUNERES17</td>\n",
       "      <td>18.530963</td>\n",
       "      <td>73.828972</td>\n",
       "    </tr>\n",
       "    <tr>\n",
       "      <th>34206</th>\n",
       "      <td>PUNERES17</td>\n",
       "      <td>18.530963</td>\n",
       "      <td>73.828972</td>\n",
       "    </tr>\n",
       "    <tr>\n",
       "      <th>23936</th>\n",
       "      <td>PUNERES17</td>\n",
       "      <td>18.530963</td>\n",
       "      <td>73.828972</td>\n",
       "    </tr>\n",
       "    <tr>\n",
       "      <th>100</th>\n",
       "      <td>PUNERES17</td>\n",
       "      <td>18.530963</td>\n",
       "      <td>73.828972</td>\n",
       "    </tr>\n",
       "  </tbody>\n",
       "</table>\n",
       "<p>16433 rows × 3 columns</p>\n",
       "</div>"
      ],
      "text/plain": [
       "      restaurant  restaurant_latitude  restaurant_longitude\n",
       "0      INDORES13            22.745049             75.892471\n",
       "11859  INDORES13            22.745049             75.892471\n",
       "12357  INDORES13            22.745049             75.892471\n",
       "14807  INDORES13            22.745049             75.892471\n",
       "12346  INDORES13            22.745049             75.892471\n",
       "...          ...                  ...                   ...\n",
       "17549  PUNERES17            18.530963             73.828972\n",
       "3759   PUNERES17            18.530963             73.828972\n",
       "34206  PUNERES17            18.530963             73.828972\n",
       "23936  PUNERES17            18.530963             73.828972\n",
       "100    PUNERES17            18.530963             73.828972\n",
       "\n",
       "[16433 rows x 3 columns]"
      ]
     },
     "execution_count": 249,
     "metadata": {},
     "output_type": "execute_result"
    }
   ],
   "source": [
    "import re\n",
    "\n",
    "pattern = r\"^.+RES\\d{2}\"\n",
    "\n",
    "df[\"restaurant\"] = [re.search(pattern, cell).group() for cell in df.delivery_person_id]\n",
    "\n",
    "restaurants = list(set(df.restaurant))\n",
    "restaurants.sort()\n",
    "print(len(restaurants))\n",
    "\n",
    "df.sort_values(by=['restaurant']).loc[0:100, [\"restaurant\", \"restaurant_latitude\", \"restaurant_longitude\"]]"
   ]
  },
  {
   "cell_type": "markdown",
   "id": "eea86cc0",
   "metadata": {},
   "source": [
    "As cases with the same restaurant ID share the same location, we can infer that there are a total of 418 restaurants."
   ]
  },
  {
   "cell_type": "code",
   "execution_count": 250,
   "id": "2d49353b",
   "metadata": {},
   "outputs": [],
   "source": [
    "cat_cols.drop(\"id\", axis = 1, inplace = True)"
   ]
  },
  {
   "cell_type": "markdown",
   "id": "03a9b1e3",
   "metadata": {},
   "source": [
    "### Type of order"
   ]
  },
  {
   "cell_type": "code",
   "execution_count": 251,
   "id": "b874272d",
   "metadata": {},
   "outputs": [
    {
     "name": "stdout",
     "output_type": "stream",
     "text": [
      "Number of unique order types: 4\n"
     ]
    },
    {
     "data": {
      "text/plain": [
       "['Snack ', 'Drinks ', 'Buffet ', 'Meal ']"
      ]
     },
     "execution_count": 251,
     "metadata": {},
     "output_type": "execute_result"
    }
   ],
   "source": [
    "print(f\"Number of unique order types: {cat_cols.type_of_order.nunique()}\")\n",
    "cat_cols.type_of_order.unique().tolist()"
   ]
  },
  {
   "cell_type": "markdown",
   "id": "43c1c2bf",
   "metadata": {},
   "source": [
    "The categories have superfluous whitespaces at the end of the string. These are removed first."
   ]
  },
  {
   "cell_type": "code",
   "execution_count": 252,
   "id": "4be46e07",
   "metadata": {},
   "outputs": [],
   "source": [
    "cat_cols[\"type_of_order\"] = [cell.strip() for cell in cat_cols.type_of_order]"
   ]
  },
  {
   "cell_type": "code",
   "execution_count": 253,
   "id": "28fe1297",
   "metadata": {},
   "outputs": [
    {
     "data": {
      "text/plain": [
       "<AxesSubplot:xlabel='type_of_order', ylabel='time_taken'>"
      ]
     },
     "execution_count": 253,
     "metadata": {},
     "output_type": "execute_result"
    },
    {
     "data": {
      "image/png": "[encoded data removed]",
      "text/plain": [
       "<Figure size 432x288 with 1 Axes>"
      ]
     },
     "metadata": {},
     "output_type": "display_data"
    }
   ],
   "source": [
    "sns.boxplot(x = df.type_of_order, y = df.time_taken)"
   ]
  },
  {
   "cell_type": "code",
   "execution_count": 254,
   "id": "4c02e05f",
   "metadata": {},
   "outputs": [
    {
     "data": {
      "text/html": [
       "<div>\n",
       "<style scoped>\n",
       "    .dataframe tbody tr th:only-of-type {\n",
       "        vertical-align: middle;\n",
       "    }\n",
       "\n",
       "    .dataframe tbody tr th {\n",
       "        vertical-align: top;\n",
       "    }\n",
       "\n",
       "    .dataframe thead th {\n",
       "        text-align: right;\n",
       "    }\n",
       "</style>\n",
       "<table border=\"1\" class=\"dataframe\">\n",
       "  <thead>\n",
       "    <tr style=\"text-align: right;\">\n",
       "      <th></th>\n",
       "      <th>count</th>\n",
       "      <th>mean</th>\n",
       "      <th>std</th>\n",
       "      <th>min</th>\n",
       "      <th>25%</th>\n",
       "      <th>50%</th>\n",
       "      <th>75%</th>\n",
       "      <th>max</th>\n",
       "    </tr>\n",
       "    <tr>\n",
       "      <th>type_of_order</th>\n",
       "      <th></th>\n",
       "      <th></th>\n",
       "      <th></th>\n",
       "      <th></th>\n",
       "      <th></th>\n",
       "      <th></th>\n",
       "      <th></th>\n",
       "      <th></th>\n",
       "    </tr>\n",
       "  </thead>\n",
       "  <tbody>\n",
       "    <tr>\n",
       "      <th>Buffet</th>\n",
       "      <td>11280.0</td>\n",
       "      <td>26.283511</td>\n",
       "      <td>9.411344</td>\n",
       "      <td>10.0</td>\n",
       "      <td>19.0</td>\n",
       "      <td>26.0</td>\n",
       "      <td>32.0</td>\n",
       "      <td>54.0</td>\n",
       "    </tr>\n",
       "    <tr>\n",
       "      <th>Drinks</th>\n",
       "      <td>11322.0</td>\n",
       "      <td>26.187953</td>\n",
       "      <td>9.298465</td>\n",
       "      <td>10.0</td>\n",
       "      <td>19.0</td>\n",
       "      <td>25.0</td>\n",
       "      <td>32.0</td>\n",
       "      <td>54.0</td>\n",
       "    </tr>\n",
       "    <tr>\n",
       "      <th>Meal</th>\n",
       "      <td>11458.0</td>\n",
       "      <td>26.419270</td>\n",
       "      <td>9.424849</td>\n",
       "      <td>10.0</td>\n",
       "      <td>19.0</td>\n",
       "      <td>26.0</td>\n",
       "      <td>33.0</td>\n",
       "      <td>54.0</td>\n",
       "    </tr>\n",
       "    <tr>\n",
       "      <th>Snack</th>\n",
       "      <td>11533.0</td>\n",
       "      <td>26.286309</td>\n",
       "      <td>9.399147</td>\n",
       "      <td>10.0</td>\n",
       "      <td>19.0</td>\n",
       "      <td>26.0</td>\n",
       "      <td>32.0</td>\n",
       "      <td>54.0</td>\n",
       "    </tr>\n",
       "  </tbody>\n",
       "</table>\n",
       "</div>"
      ],
      "text/plain": [
       "                 count       mean       std   min   25%   50%   75%   max\n",
       "type_of_order                                                            \n",
       "Buffet         11280.0  26.283511  9.411344  10.0  19.0  26.0  32.0  54.0\n",
       "Drinks         11322.0  26.187953  9.298465  10.0  19.0  25.0  32.0  54.0\n",
       "Meal           11458.0  26.419270  9.424849  10.0  19.0  26.0  33.0  54.0\n",
       "Snack          11533.0  26.286309  9.399147  10.0  19.0  26.0  32.0  54.0"
      ]
     },
     "execution_count": 254,
     "metadata": {},
     "output_type": "execute_result"
    }
   ],
   "source": [
    "df.groupby(\"type_of_order\")[\"time_taken\"].describe()"
   ]
  },
  {
   "cell_type": "markdown",
   "id": "d6f960bd",
   "metadata": {},
   "source": [
    "Meals tend to take slightly longer to deliver, but the difference isn't large."
   ]
  },
  {
   "cell_type": "markdown",
   "id": "06a976d7",
   "metadata": {},
   "source": [
    "### Type of vehicle"
   ]
  },
  {
   "cell_type": "code",
   "execution_count": 255,
   "id": "18241206",
   "metadata": {},
   "outputs": [
    {
     "name": "stdout",
     "output_type": "stream",
     "text": [
      "Number of unique vehicle types: 4\n"
     ]
    },
    {
     "data": {
      "text/plain": [
       "['motorcycle ', 'scooter ', 'electric_scooter ', 'bicycle ']"
      ]
     },
     "execution_count": 255,
     "metadata": {},
     "output_type": "execute_result"
    }
   ],
   "source": [
    "print(f\"Number of unique vehicle types: {cat_cols.type_of_vehicle.nunique()}\")\n",
    "cat_cols.type_of_vehicle.unique().tolist()"
   ]
  },
  {
   "cell_type": "code",
   "execution_count": 256,
   "id": "336bc626",
   "metadata": {},
   "outputs": [],
   "source": [
    "cat_cols[\"type_of_vehicle\"] = [cell.strip() for cell in cat_cols.type_of_vehicle]"
   ]
  },
  {
   "cell_type": "code",
   "execution_count": 257,
   "id": "ef2a1473",
   "metadata": {},
   "outputs": [
    {
     "data": {
      "text/plain": [
       "<AxesSubplot:xlabel='type_of_vehicle', ylabel='time_taken'>"
      ]
     },
     "execution_count": 257,
     "metadata": {},
     "output_type": "execute_result"
    },
    {
     "data": {
      "image/png": "[encoded data removed]",
      "text/plain": [
       "<Figure size 432x288 with 1 Axes>"
      ]
     },
     "metadata": {},
     "output_type": "display_data"
    }
   ],
   "source": [
    "sns.boxplot(x = df.type_of_vehicle, y = df.time_taken)"
   ]
  },
  {
   "cell_type": "code",
   "execution_count": 258,
   "id": "7cacd3b3",
   "metadata": {},
   "outputs": [
    {
     "data": {
      "text/html": [
       "<div>\n",
       "<style scoped>\n",
       "    .dataframe tbody tr th:only-of-type {\n",
       "        vertical-align: middle;\n",
       "    }\n",
       "\n",
       "    .dataframe tbody tr th {\n",
       "        vertical-align: top;\n",
       "    }\n",
       "\n",
       "    .dataframe thead th {\n",
       "        text-align: right;\n",
       "    }\n",
       "</style>\n",
       "<table border=\"1\" class=\"dataframe\">\n",
       "  <thead>\n",
       "    <tr style=\"text-align: right;\">\n",
       "      <th></th>\n",
       "      <th>count</th>\n",
       "      <th>mean</th>\n",
       "      <th>std</th>\n",
       "      <th>min</th>\n",
       "      <th>25%</th>\n",
       "      <th>50%</th>\n",
       "      <th>75%</th>\n",
       "      <th>max</th>\n",
       "    </tr>\n",
       "    <tr>\n",
       "      <th>type_of_vehicle</th>\n",
       "      <th></th>\n",
       "      <th></th>\n",
       "      <th></th>\n",
       "      <th></th>\n",
       "      <th></th>\n",
       "      <th></th>\n",
       "      <th></th>\n",
       "      <th></th>\n",
       "    </tr>\n",
       "  </thead>\n",
       "  <tbody>\n",
       "    <tr>\n",
       "      <th>bicycle</th>\n",
       "      <td>68.0</td>\n",
       "      <td>26.426471</td>\n",
       "      <td>9.262855</td>\n",
       "      <td>10.0</td>\n",
       "      <td>19.0</td>\n",
       "      <td>26.0</td>\n",
       "      <td>32.25</td>\n",
       "      <td>47.0</td>\n",
       "    </tr>\n",
       "    <tr>\n",
       "      <th>electric_scooter</th>\n",
       "      <td>3814.0</td>\n",
       "      <td>24.470110</td>\n",
       "      <td>8.610859</td>\n",
       "      <td>10.0</td>\n",
       "      <td>17.0</td>\n",
       "      <td>24.0</td>\n",
       "      <td>30.00</td>\n",
       "      <td>53.0</td>\n",
       "    </tr>\n",
       "    <tr>\n",
       "      <th>motorcycle</th>\n",
       "      <td>26435.0</td>\n",
       "      <td>27.605674</td>\n",
       "      <td>9.647811</td>\n",
       "      <td>10.0</td>\n",
       "      <td>20.0</td>\n",
       "      <td>26.0</td>\n",
       "      <td>34.00</td>\n",
       "      <td>54.0</td>\n",
       "    </tr>\n",
       "    <tr>\n",
       "      <th>scooter</th>\n",
       "      <td>15276.0</td>\n",
       "      <td>24.480754</td>\n",
       "      <td>8.704238</td>\n",
       "      <td>10.0</td>\n",
       "      <td>17.0</td>\n",
       "      <td>24.0</td>\n",
       "      <td>30.00</td>\n",
       "      <td>54.0</td>\n",
       "    </tr>\n",
       "  </tbody>\n",
       "</table>\n",
       "</div>"
      ],
      "text/plain": [
       "                     count       mean       std   min   25%   50%    75%   max\n",
       "type_of_vehicle                                                               \n",
       "bicycle               68.0  26.426471  9.262855  10.0  19.0  26.0  32.25  47.0\n",
       "electric_scooter    3814.0  24.470110  8.610859  10.0  17.0  24.0  30.00  53.0\n",
       "motorcycle         26435.0  27.605674  9.647811  10.0  20.0  26.0  34.00  54.0\n",
       "scooter            15276.0  24.480754  8.704238  10.0  17.0  24.0  30.00  54.0"
      ]
     },
     "execution_count": 258,
     "metadata": {},
     "output_type": "execute_result"
    }
   ],
   "source": [
    "df.groupby(\"type_of_vehicle\")[\"time_taken\"].describe()"
   ]
  },
  {
   "cell_type": "markdown",
   "id": "8492d008",
   "metadata": {},
   "source": [
    "Deliveries brought by motorcycle or bicycle tend to take longer to deliver. This doesn't necessarily have to be a causal relationship. It could simply be that motorcycles are used to reach destinations that are farther away. It's also of note that only very few deliveries are done by bicycle, so the summary statistics might not be very meaningful in this case."
   ]
  },
  {
   "cell_type": "markdown",
   "id": "7b49afbe",
   "metadata": {},
   "source": [
    "### Delivery person"
   ]
  },
  {
   "cell_type": "code",
   "execution_count": 259,
   "id": "d9a2dfa3",
   "metadata": {},
   "outputs": [
    {
     "name": "stdout",
     "output_type": "stream",
     "text": [
      "Number of unique delivery person ids: 1320\n"
     ]
    }
   ],
   "source": [
    "print(f\"Number of unique delivery person ids: {cat_cols.delivery_person_id.nunique()}\")"
   ]
  },
  {
   "cell_type": "code",
   "execution_count": 260,
   "id": "b974703a",
   "metadata": {},
   "outputs": [
    {
     "data": {
      "text/plain": [
       "count    1320.000000\n",
       "mean       34.540152\n",
       "std        21.305850\n",
       "min         5.000000\n",
       "25%        13.000000\n",
       "50%        41.000000\n",
       "75%        56.000000\n",
       "max        67.000000\n",
       "Name: delivery_person_id, dtype: float64"
      ]
     },
     "execution_count": 260,
     "metadata": {},
     "output_type": "execute_result"
    }
   ],
   "source": [
    "person_id_table = cat_cols.delivery_person_id.value_counts()\n",
    "person_id_table.describe()"
   ]
  },
  {
   "cell_type": "markdown",
   "id": "8c5e31c7",
   "metadata": {},
   "source": [
    "The average delivery person has carried out 34.5 deliveries. The delivery person with the fewest number of deliveries has 5, while the most active delivery person has 67 deliveries under their belt. Considering the high number of delivery persons and the relatively few deliveries per person, dummifying this variable might be more trouple than it is worth. It is dropped for now."
   ]
  },
  {
   "cell_type": "code",
   "execution_count": 261,
   "id": "a88b4dca",
   "metadata": {},
   "outputs": [],
   "source": [
    "cat_cols.drop(\"delivery_person_id\", axis = 1, inplace = True)"
   ]
  },
  {
   "cell_type": "markdown",
   "id": "ebce3b78",
   "metadata": {},
   "source": [
    "### Dummifying"
   ]
  },
  {
   "cell_type": "markdown",
   "id": "fbea7ff7",
   "metadata": {},
   "source": [
    "The type of vehicle and the type of order have relatively few unique categories and they might have a relation to the outcome variable. These two variables will be dummified, while the other two variables (order ID and delivery person ID) have been dropped."
   ]
  },
  {
   "cell_type": "code",
   "execution_count": 262,
   "id": "f181ea19",
   "metadata": {},
   "outputs": [
    {
     "name": "stdout",
     "output_type": "stream",
     "text": [
      "Index(['type_of_order_Buffet', 'type_of_order_Drinks', 'type_of_order_Meal',\n",
      "       'type_of_order_Snack', 'type_of_vehicle_bicycle',\n",
      "       'type_of_vehicle_electric_scooter', 'type_of_vehicle_motorcycle',\n",
      "       'type_of_vehicle_scooter'],\n",
      "      dtype='object')\n"
     ]
    }
   ],
   "source": [
    "cat_cols_dummy = pd.get_dummies(cat_cols)\n",
    "print(cat_cols_dummy.columns)"
   ]
  },
  {
   "cell_type": "markdown",
   "id": "fcfb469e",
   "metadata": {},
   "source": [
    "For each variable, the first category is dropped and used as reference category. In the case of the type of order, the category I've chosen as reference is \"Drinks\" as they are easy to prepare and slightly faster to deliver. The type of vehicle chosen as the reference category is \"Motorcyle\" because they are most frequently used."
   ]
  },
  {
   "cell_type": "code",
   "execution_count": 263,
   "id": "ad062d61",
   "metadata": {},
   "outputs": [
    {
     "data": {
      "text/html": [
       "<div>\n",
       "<style scoped>\n",
       "    .dataframe tbody tr th:only-of-type {\n",
       "        vertical-align: middle;\n",
       "    }\n",
       "\n",
       "    .dataframe tbody tr th {\n",
       "        vertical-align: top;\n",
       "    }\n",
       "\n",
       "    .dataframe thead th {\n",
       "        text-align: right;\n",
       "    }\n",
       "</style>\n",
       "<table border=\"1\" class=\"dataframe\">\n",
       "  <thead>\n",
       "    <tr style=\"text-align: right;\">\n",
       "      <th></th>\n",
       "      <th>type_of_order_Buffet</th>\n",
       "      <th>type_of_order_Meal</th>\n",
       "      <th>type_of_order_Snack</th>\n",
       "      <th>type_of_vehicle_bicycle</th>\n",
       "      <th>type_of_vehicle_electric_scooter</th>\n",
       "      <th>type_of_vehicle_scooter</th>\n",
       "    </tr>\n",
       "  </thead>\n",
       "  <tbody>\n",
       "    <tr>\n",
       "      <th>0</th>\n",
       "      <td>0</td>\n",
       "      <td>0</td>\n",
       "      <td>1</td>\n",
       "      <td>0</td>\n",
       "      <td>0</td>\n",
       "      <td>0</td>\n",
       "    </tr>\n",
       "    <tr>\n",
       "      <th>1</th>\n",
       "      <td>0</td>\n",
       "      <td>0</td>\n",
       "      <td>1</td>\n",
       "      <td>0</td>\n",
       "      <td>0</td>\n",
       "      <td>1</td>\n",
       "    </tr>\n",
       "    <tr>\n",
       "      <th>2</th>\n",
       "      <td>0</td>\n",
       "      <td>0</td>\n",
       "      <td>0</td>\n",
       "      <td>0</td>\n",
       "      <td>0</td>\n",
       "      <td>0</td>\n",
       "    </tr>\n",
       "    <tr>\n",
       "      <th>3</th>\n",
       "      <td>1</td>\n",
       "      <td>0</td>\n",
       "      <td>0</td>\n",
       "      <td>0</td>\n",
       "      <td>0</td>\n",
       "      <td>0</td>\n",
       "    </tr>\n",
       "    <tr>\n",
       "      <th>4</th>\n",
       "      <td>0</td>\n",
       "      <td>0</td>\n",
       "      <td>1</td>\n",
       "      <td>0</td>\n",
       "      <td>0</td>\n",
       "      <td>1</td>\n",
       "    </tr>\n",
       "  </tbody>\n",
       "</table>\n",
       "</div>"
      ],
      "text/plain": [
       "   type_of_order_Buffet  type_of_order_Meal  type_of_order_Snack  \\\n",
       "0                     0                   0                    1   \n",
       "1                     0                   0                    1   \n",
       "2                     0                   0                    0   \n",
       "3                     1                   0                    0   \n",
       "4                     0                   0                    1   \n",
       "\n",
       "   type_of_vehicle_bicycle  type_of_vehicle_electric_scooter  \\\n",
       "0                        0                                 0   \n",
       "1                        0                                 0   \n",
       "2                        0                                 0   \n",
       "3                        0                                 0   \n",
       "4                        0                                 0   \n",
       "\n",
       "   type_of_vehicle_scooter  \n",
       "0                        0  \n",
       "1                        1  \n",
       "2                        0  \n",
       "3                        0  \n",
       "4                        1  "
      ]
     },
     "execution_count": 263,
     "metadata": {},
     "output_type": "execute_result"
    }
   ],
   "source": [
    "cat_cols_dummy.drop([\"type_of_order_Drinks\", \"type_of_vehicle_motorcycle\"], axis = 1, inplace = True)\n",
    "cat_cols_dummy.head()"
   ]
  },
  {
   "cell_type": "markdown",
   "id": "dd51dc62",
   "metadata": {},
   "source": [
    "## Numeric independent variables"
   ]
  },
  {
   "cell_type": "markdown",
   "id": "1d301d07",
   "metadata": {},
   "source": [
    "### Distance"
   ]
  },
  {
   "cell_type": "markdown",
   "id": "3e7ede25",
   "metadata": {},
   "source": [
    "The variables 'restaurant_latitude', 'restaurant_longitude', 'delivery_location_latitude', 'delivery_location_longitude' can be used to calculate beeline location. Of course, delivery drivers can't drive in a straight line to their location, but calculating exact distance would be much more difficult. So this is still a good enough approximation."
   ]
  },
  {
   "cell_type": "markdown",
   "id": "4c036608",
   "metadata": {},
   "source": [
    "But first, there seem to be both negative and positive values in the data. Either these locations are very far apart, or there is some error in the data."
   ]
  },
  {
   "cell_type": "code",
   "execution_count": 264,
   "id": "b2f5d97d",
   "metadata": {},
   "outputs": [
    {
     "data": {
      "text/html": [
       "<div>\n",
       "<style scoped>\n",
       "    .dataframe tbody tr th:only-of-type {\n",
       "        vertical-align: middle;\n",
       "    }\n",
       "\n",
       "    .dataframe tbody tr th {\n",
       "        vertical-align: top;\n",
       "    }\n",
       "\n",
       "    .dataframe thead th {\n",
       "        text-align: right;\n",
       "    }\n",
       "</style>\n",
       "<table border=\"1\" class=\"dataframe\">\n",
       "  <thead>\n",
       "    <tr style=\"text-align: right;\">\n",
       "      <th></th>\n",
       "      <th>id</th>\n",
       "      <th>delivery_person_id</th>\n",
       "      <th>delivery_person_age</th>\n",
       "      <th>delivery_person_ratings</th>\n",
       "      <th>restaurant_latitude</th>\n",
       "      <th>restaurant_longitude</th>\n",
       "      <th>delivery_location_latitude</th>\n",
       "      <th>delivery_location_longitude</th>\n",
       "      <th>type_of_order</th>\n",
       "      <th>type_of_vehicle</th>\n",
       "      <th>time_taken</th>\n",
       "      <th>restaurant</th>\n",
       "    </tr>\n",
       "  </thead>\n",
       "  <tbody>\n",
       "    <tr>\n",
       "      <th>92</th>\n",
       "      <td>C042</td>\n",
       "      <td>AGRRES010DEL01</td>\n",
       "      <td>34</td>\n",
       "      <td>4.7</td>\n",
       "      <td>-27.163303</td>\n",
       "      <td>78.057044</td>\n",
       "      <td>27.233303</td>\n",
       "      <td>78.127044</td>\n",
       "      <td>Drinks</td>\n",
       "      <td>scooter</td>\n",
       "      <td>15</td>\n",
       "      <td>AGRRES01</td>\n",
       "    </tr>\n",
       "    <tr>\n",
       "      <th>283</th>\n",
       "      <td>C044</td>\n",
       "      <td>AGRRES12DEL03</td>\n",
       "      <td>32</td>\n",
       "      <td>4.7</td>\n",
       "      <td>-27.165108</td>\n",
       "      <td>78.015053</td>\n",
       "      <td>27.225108</td>\n",
       "      <td>78.075053</td>\n",
       "      <td>Meal</td>\n",
       "      <td>scooter</td>\n",
       "      <td>31</td>\n",
       "      <td>AGRRES12</td>\n",
       "    </tr>\n",
       "    <tr>\n",
       "      <th>289</th>\n",
       "      <td>4DB</td>\n",
       "      <td>PUNERES02DEL03</td>\n",
       "      <td>29</td>\n",
       "      <td>4.6</td>\n",
       "      <td>-18.551440</td>\n",
       "      <td>-73.804855</td>\n",
       "      <td>18.611440</td>\n",
       "      <td>73.864855</td>\n",
       "      <td>Meal</td>\n",
       "      <td>scooter</td>\n",
       "      <td>12</td>\n",
       "      <td>PUNERES02</td>\n",
       "    </tr>\n",
       "    <tr>\n",
       "      <th>425</th>\n",
       "      <td>C003</td>\n",
       "      <td>DEHRES13DEL02</td>\n",
       "      <td>29</td>\n",
       "      <td>4.6</td>\n",
       "      <td>-30.366322</td>\n",
       "      <td>-78.070453</td>\n",
       "      <td>30.496322</td>\n",
       "      <td>78.200453</td>\n",
       "      <td>Snack</td>\n",
       "      <td>scooter</td>\n",
       "      <td>20</td>\n",
       "      <td>DEHRES13</td>\n",
       "    </tr>\n",
       "    <tr>\n",
       "      <th>534</th>\n",
       "      <td>473</td>\n",
       "      <td>MYSRES07DEL03</td>\n",
       "      <td>29</td>\n",
       "      <td>4.6</td>\n",
       "      <td>-12.325461</td>\n",
       "      <td>-76.632278</td>\n",
       "      <td>12.385461</td>\n",
       "      <td>76.692278</td>\n",
       "      <td>Buffet</td>\n",
       "      <td>scooter</td>\n",
       "      <td>16</td>\n",
       "      <td>MYSRES07</td>\n",
       "    </tr>\n",
       "    <tr>\n",
       "      <th>...</th>\n",
       "      <td>...</td>\n",
       "      <td>...</td>\n",
       "      <td>...</td>\n",
       "      <td>...</td>\n",
       "      <td>...</td>\n",
       "      <td>...</td>\n",
       "      <td>...</td>\n",
       "      <td>...</td>\n",
       "      <td>...</td>\n",
       "      <td>...</td>\n",
       "      <td>...</td>\n",
       "      <td>...</td>\n",
       "    </tr>\n",
       "    <tr>\n",
       "      <th>44933</th>\n",
       "      <td>C0C2</td>\n",
       "      <td>AURGRES03DEL03</td>\n",
       "      <td>30</td>\n",
       "      <td>4.9</td>\n",
       "      <td>-19.874733</td>\n",
       "      <td>75.353942</td>\n",
       "      <td>19.904733</td>\n",
       "      <td>75.383942</td>\n",
       "      <td>Buffet</td>\n",
       "      <td>motorcycle</td>\n",
       "      <td>15</td>\n",
       "      <td>AURGRES03</td>\n",
       "    </tr>\n",
       "    <tr>\n",
       "      <th>45020</th>\n",
       "      <td>56B</td>\n",
       "      <td>PUNERES04DEL01</td>\n",
       "      <td>29</td>\n",
       "      <td>4.6</td>\n",
       "      <td>-18.514210</td>\n",
       "      <td>73.838429</td>\n",
       "      <td>18.524210</td>\n",
       "      <td>73.848429</td>\n",
       "      <td>Drinks</td>\n",
       "      <td>electric_scooter</td>\n",
       "      <td>30</td>\n",
       "      <td>PUNERES04</td>\n",
       "    </tr>\n",
       "    <tr>\n",
       "      <th>45108</th>\n",
       "      <td>C01B</td>\n",
       "      <td>GOARES18DEL01</td>\n",
       "      <td>29</td>\n",
       "      <td>4.6</td>\n",
       "      <td>-15.493950</td>\n",
       "      <td>-73.827423</td>\n",
       "      <td>15.563950</td>\n",
       "      <td>73.897423</td>\n",
       "      <td>Meal</td>\n",
       "      <td>scooter</td>\n",
       "      <td>19</td>\n",
       "      <td>GOARES18</td>\n",
       "    </tr>\n",
       "    <tr>\n",
       "      <th>45182</th>\n",
       "      <td>C0C7</td>\n",
       "      <td>KNPRES16DEL02</td>\n",
       "      <td>30</td>\n",
       "      <td>4.0</td>\n",
       "      <td>-26.482581</td>\n",
       "      <td>80.315628</td>\n",
       "      <td>26.532581</td>\n",
       "      <td>80.365628</td>\n",
       "      <td>Drinks</td>\n",
       "      <td>motorcycle</td>\n",
       "      <td>34</td>\n",
       "      <td>KNPRES16</td>\n",
       "    </tr>\n",
       "    <tr>\n",
       "      <th>45504</th>\n",
       "      <td>461</td>\n",
       "      <td>BANGRES07DEL02</td>\n",
       "      <td>29</td>\n",
       "      <td>4.6</td>\n",
       "      <td>-12.978453</td>\n",
       "      <td>-77.643685</td>\n",
       "      <td>12.998453</td>\n",
       "      <td>77.663685</td>\n",
       "      <td>Meal</td>\n",
       "      <td>scooter</td>\n",
       "      <td>24</td>\n",
       "      <td>BANGRES07</td>\n",
       "    </tr>\n",
       "  </tbody>\n",
       "</table>\n",
       "<p>431 rows × 12 columns</p>\n",
       "</div>"
      ],
      "text/plain": [
       "         id delivery_person_id  delivery_person_age  delivery_person_ratings  \\\n",
       "92     C042     AGRRES010DEL01                   34                      4.7   \n",
       "283    C044      AGRRES12DEL03                   32                      4.7   \n",
       "289     4DB     PUNERES02DEL03                   29                      4.6   \n",
       "425    C003      DEHRES13DEL02                   29                      4.6   \n",
       "534     473      MYSRES07DEL03                   29                      4.6   \n",
       "...     ...                ...                  ...                      ...   \n",
       "44933  C0C2     AURGRES03DEL03                   30                      4.9   \n",
       "45020   56B     PUNERES04DEL01                   29                      4.6   \n",
       "45108  C01B      GOARES18DEL01                   29                      4.6   \n",
       "45182  C0C7      KNPRES16DEL02                   30                      4.0   \n",
       "45504   461     BANGRES07DEL02                   29                      4.6   \n",
       "\n",
       "       restaurant_latitude  restaurant_longitude  delivery_location_latitude  \\\n",
       "92              -27.163303             78.057044                   27.233303   \n",
       "283             -27.165108             78.015053                   27.225108   \n",
       "289             -18.551440            -73.804855                   18.611440   \n",
       "425             -30.366322            -78.070453                   30.496322   \n",
       "534             -12.325461            -76.632278                   12.385461   \n",
       "...                    ...                   ...                         ...   \n",
       "44933           -19.874733             75.353942                   19.904733   \n",
       "45020           -18.514210             73.838429                   18.524210   \n",
       "45108           -15.493950            -73.827423                   15.563950   \n",
       "45182           -26.482581             80.315628                   26.532581   \n",
       "45504           -12.978453            -77.643685                   12.998453   \n",
       "\n",
       "       delivery_location_longitude type_of_order    type_of_vehicle  \\\n",
       "92                       78.127044       Drinks            scooter    \n",
       "283                      78.075053         Meal            scooter    \n",
       "289                      73.864855         Meal            scooter    \n",
       "425                      78.200453        Snack            scooter    \n",
       "534                      76.692278       Buffet            scooter    \n",
       "...                            ...           ...                ...   \n",
       "44933                    75.383942       Buffet         motorcycle    \n",
       "45020                    73.848429       Drinks   electric_scooter    \n",
       "45108                    73.897423         Meal            scooter    \n",
       "45182                    80.365628       Drinks         motorcycle    \n",
       "45504                    77.663685         Meal            scooter    \n",
       "\n",
       "       time_taken restaurant  \n",
       "92             15   AGRRES01  \n",
       "283            31   AGRRES12  \n",
       "289            12  PUNERES02  \n",
       "425            20   DEHRES13  \n",
       "534            16   MYSRES07  \n",
       "...           ...        ...  \n",
       "44933          15  AURGRES03  \n",
       "45020          30  PUNERES04  \n",
       "45108          19   GOARES18  \n",
       "45182          34   KNPRES16  \n",
       "45504          24  BANGRES07  \n",
       "\n",
       "[431 rows x 12 columns]"
      ]
     },
     "execution_count": 264,
     "metadata": {},
     "output_type": "execute_result"
    }
   ],
   "source": [
    "df.loc[df.restaurant_latitude < 0, :]"
   ]
  },
  {
   "cell_type": "markdown",
   "id": "82d5ed01",
   "metadata": {},
   "source": [
    "As we can see here, the absolute vale of the restaurant latitude seems to be very close to delivery location latitude. As it is highly unlikely that the delivery has crossed the equator or the prime meridian, the values have to be corrected. The locations are likely all in India (for example, [30.496322, 78.200453] is in Uttarakhand), so both positive latitude and positive longitude is assumed.\n",
    "\n",
    "There are also many restaurants with a location of (0, 0). "
   ]
  },
  {
   "cell_type": "code",
   "execution_count": 265,
   "id": "0af03526",
   "metadata": {},
   "outputs": [
    {
     "name": "stdout",
     "output_type": "stream",
     "text": [
      "count    3640.000000\n",
      "mean        0.063016\n",
      "std         0.036047\n",
      "min         0.010000\n",
      "25%         0.030000\n",
      "50%         0.060000\n",
      "75%         0.090000\n",
      "max         0.130000\n",
      "Name: delivery_location_latitude, dtype: float64\n",
      "count    3640.000000\n",
      "mean        0.063016\n",
      "std         0.036047\n",
      "min         0.010000\n",
      "25%         0.030000\n",
      "50%         0.060000\n",
      "75%         0.090000\n",
      "max         0.130000\n",
      "Name: delivery_location_longitude, dtype: float64\n"
     ]
    }
   ],
   "source": [
    "tmp = df.loc[df.restaurant_latitude == 0, :]\n",
    "\n",
    "print(tmp.delivery_location_latitude.describe())\n",
    "print(tmp.delivery_location_longitude.describe())"
   ]
  },
  {
   "cell_type": "markdown",
   "id": "fb8b7358",
   "metadata": {},
   "source": [
    "In these cases, the delivery location latitude and longitude are all positive and closeby.\n",
    "\n",
    "The absolute value of all location variables should be taken."
   ]
  },
  {
   "cell_type": "code",
   "execution_count": 266,
   "id": "4128a985",
   "metadata": {},
   "outputs": [],
   "source": [
    "df[\"restaurant_latitude\"] = df[\"restaurant_latitude\"].abs()\n",
    "df[\"restaurant_longitude\"] = df[\"restaurant_longitude\"].abs()\n",
    "df[\"delivery_location_latitude\"] = df[\"delivery_location_latitude\"].abs()\n",
    "df[\"delivery_location_longitude\"] = df[\"delivery_location_longitude\"].abs()"
   ]
  },
  {
   "cell_type": "markdown",
   "id": "b78e4ba0",
   "metadata": {},
   "source": [
    "Finally, we can calculate the beeline distance."
   ]
  },
  {
   "cell_type": "code",
   "execution_count": 267,
   "id": "93007cd7",
   "metadata": {},
   "outputs": [
    {
     "data": {
      "text/plain": [
       "count    45593.000000\n",
       "mean         0.907852\n",
       "std         10.087993\n",
       "min          0.014141\n",
       "25%          0.042426\n",
       "50%          0.084853\n",
       "75%          0.127279\n",
       "max        182.546210\n",
       "dtype: float64"
      ]
     },
     "execution_count": 267,
     "metadata": {},
     "output_type": "execute_result"
    }
   ],
   "source": [
    "def calculate_distance(lat1, lat2, lon1, lon2):\n",
    "    \"\"\" Calculate the distance between two points using the haversine formula \"\"\"\n",
    "    lat1, lat2, lon1, lon2 = map(np.radians, [lat1, lat2, lon1, lon2])\n",
    "    \n",
    "    dlat = lat2 - lat1\n",
    "    dlon = lon2 - lon1\n",
    "    a = np.sin(dlat/2) ** 2 + np.cos(lat1) * np.cos(lat2) * np.sin(dlon/2) ** 2\n",
    "    b = 2 * np.arctan2(a ** 0.5, (1-a) ** 0.5)\n",
    "    \n",
    "    return b * 6371\n",
    "\n",
    "df[\"beeline_distance\"] = calculate_distance(df.restaurant_latitude, df.delivery_location_latitude, \n",
    "                                            df.restaurant_longitude, df.delivery_location_longitude)\n",
    "beeline_distance.describe()"
   ]
  },
  {
   "cell_type": "code",
   "execution_count": 268,
   "id": "7e8d8a10",
   "metadata": {},
   "outputs": [
    {
     "data": {
      "text/plain": [
       "<AxesSubplot:xlabel='beeline_distance', ylabel='time_taken'>"
      ]
     },
     "execution_count": 268,
     "metadata": {},
     "output_type": "execute_result"
    },
    {
     "data": {
      "image/png": "[encoded data removed]",
      "text/plain": [
       "<Figure size 432x288 with 1 Axes>"
      ]
     },
     "metadata": {},
     "output_type": "display_data"
    }
   ],
   "source": [
    "sns.regplot(x = df.beeline_distance, y = df.time_taken, \n",
    "            scatter_kws = {'alpha':0.01},\n",
    "            line_kws = {\"color\": 'red', \"linewidth\": 2})"
   ]
  },
  {
   "cell_type": "markdown",
   "id": "08d86eac",
   "metadata": {},
   "source": [
    "There seems to be a positive association between the beeline distance and the time taken."
   ]
  },
  {
   "cell_type": "markdown",
   "id": "1ffea1ea",
   "metadata": {},
   "source": [
    "### Age and rating of delivery person"
   ]
  },
  {
   "cell_type": "code",
   "execution_count": 269,
   "id": "1c6c1eb8",
   "metadata": {},
   "outputs": [
    {
     "data": {
      "text/plain": [
       "[Text(0.5, 1.0, 'Correlation Matrix')]"
      ]
     },
     "execution_count": 269,
     "metadata": {},
     "output_type": "execute_result"
    },
    {
     "data": {
      "image/png": "[encoded data removed]",
      "text/plain": [
       "<Figure size 432x288 with 2 Axes>"
      ]
     },
     "metadata": {},
     "output_type": "display_data"
    }
   ],
   "source": [
    "df_num = df[[\"time_taken\", \"delivery_person_age\", \"delivery_person_ratings\", \"beeline_distance\"]]\n",
    "corr_matrix = df_num.corr()\n",
    "heatplot = sns.heatmap(corr_matrix, cmap = \"vlag\", vmin = -1, vmax = 1)\n",
    "heatplot.set(title = \"Correlation Matrix\")"
   ]
  },
  {
   "cell_type": "markdown",
   "id": "8e6b605d",
   "metadata": {},
   "source": [
    "- Older delivery persons take more time for the delivery\n",
    "- Delivery persons with high ratings deliver more quickly\n",
    "- The associations beetween the independent variables is low, so we expect no issues with multicollinearity"
   ]
  },
  {
   "cell_type": "code",
   "execution_count": 270,
   "id": "3dfcea30",
   "metadata": {},
   "outputs": [
    {
     "name": "stdout",
     "output_type": "stream",
     "text": [
      "count    45593.000000\n",
      "mean         4.632367\n",
      "std          0.327708\n",
      "min          1.000000\n",
      "25%          4.600000\n",
      "50%          4.700000\n",
      "75%          4.800000\n",
      "max          6.000000\n",
      "Name: delivery_person_ratings, dtype: float64\n",
      "Number of cases with a rating of 6: 53\n"
     ]
    }
   ],
   "source": [
    "print(df.delivery_person_ratings.describe())\n",
    "print(f\"Number of cases with a rating of 6: {sum(df.delivery_person_ratings == 6)}\")"
   ]
  },
  {
   "cell_type": "markdown",
   "id": "f41d85ed",
   "metadata": {},
   "source": [
    "There are 53 cases with a rating of 6. A rating scale from 1 to 5 is uncommon, and the cases are very few, so this is probably a mistake. The rating is recoded to 5."
   ]
  },
  {
   "cell_type": "code",
   "execution_count": 271,
   "id": "4855b98c",
   "metadata": {},
   "outputs": [],
   "source": [
    "df.loc[df.delivery_person_ratings == 6, \"delivery_person_ratings\"] = 5"
   ]
  },
  {
   "cell_type": "code",
   "execution_count": 272,
   "id": "f707dc07",
   "metadata": {},
   "outputs": [
    {
     "data": {
      "text/plain": [
       "<AxesSubplot:xlabel='delivery_person_ratings', ylabel='time_taken'>"
      ]
     },
     "execution_count": 272,
     "metadata": {},
     "output_type": "execute_result"
    },
    {
     "data": {
      "image/png": "[encoded data removed]",
      "text/plain": [
       "<Figure size 432x288 with 1 Axes>"
      ]
     },
     "metadata": {},
     "output_type": "display_data"
    }
   ],
   "source": [
    "sns.scatterplot(x = df.delivery_person_ratings, y = df.time_taken, alpha = 0.005)"
   ]
  },
  {
   "cell_type": "code",
   "execution_count": 273,
   "id": "cda26583",
   "metadata": {},
   "outputs": [
    {
     "data": {
      "text/plain": [
       "<AxesSubplot:xlabel='delivery_person_age', ylabel='time_taken'>"
      ]
     },
     "execution_count": 273,
     "metadata": {},
     "output_type": "execute_result"
    },
    {
     "data": {
      "image/png": "[encoded data removed]",
      "text/plain": [
       "<Figure size 432x288 with 1 Axes>"
      ]
     },
     "metadata": {},
     "output_type": "display_data"
    }
   ],
   "source": [
    "sns.scatterplot(x = df.delivery_person_age, y = df.time_taken, alpha = 0.005)"
   ]
  },
  {
   "cell_type": "markdown",
   "id": "89b7b2b0",
   "metadata": {},
   "source": [
    "## Save dataset"
   ]
  },
  {
   "cell_type": "code",
   "execution_count": 274,
   "id": "21ccb4df",
   "metadata": {},
   "outputs": [
    {
     "name": "stdout",
     "output_type": "stream",
     "text": [
      "Index(['id', 'delivery_person_id', 'delivery_person_age',\n",
      "       'delivery_person_ratings', 'restaurant_latitude',\n",
      "       'restaurant_longitude', 'delivery_location_latitude',\n",
      "       'delivery_location_longitude', 'type_of_order', 'type_of_vehicle',\n",
      "       'time_taken', 'restaurant', 'beeline_distance'],\n",
      "      dtype='object')\n",
      "Index(['type_of_order_Buffet', 'type_of_order_Meal', 'type_of_order_Snack',\n",
      "       'type_of_vehicle_bicycle', 'type_of_vehicle_electric_scooter',\n",
      "       'type_of_vehicle_scooter'],\n",
      "      dtype='object')\n"
     ]
    }
   ],
   "source": [
    "print(df.columns)\n",
    "print(cat_cols_dummy.columns)"
   ]
  },
  {
   "cell_type": "code",
   "execution_count": 275,
   "id": "babf3877",
   "metadata": {},
   "outputs": [
    {
     "data": {
      "text/html": [
       "<div>\n",
       "<style scoped>\n",
       "    .dataframe tbody tr th:only-of-type {\n",
       "        vertical-align: middle;\n",
       "    }\n",
       "\n",
       "    .dataframe tbody tr th {\n",
       "        vertical-align: top;\n",
       "    }\n",
       "\n",
       "    .dataframe thead th {\n",
       "        text-align: right;\n",
       "    }\n",
       "</style>\n",
       "<table border=\"1\" class=\"dataframe\">\n",
       "  <thead>\n",
       "    <tr style=\"text-align: right;\">\n",
       "      <th></th>\n",
       "      <th>time_taken</th>\n",
       "      <th>delivery_person_age</th>\n",
       "      <th>delivery_person_ratings</th>\n",
       "      <th>beeline_distance</th>\n",
       "      <th>type_of_order_Buffet</th>\n",
       "      <th>type_of_order_Meal</th>\n",
       "      <th>type_of_order_Snack</th>\n",
       "      <th>type_of_vehicle_bicycle</th>\n",
       "      <th>type_of_vehicle_electric_scooter</th>\n",
       "      <th>type_of_vehicle_scooter</th>\n",
       "    </tr>\n",
       "  </thead>\n",
       "  <tbody>\n",
       "    <tr>\n",
       "      <th>0</th>\n",
       "      <td>24</td>\n",
       "      <td>37</td>\n",
       "      <td>4.9</td>\n",
       "      <td>3.025149</td>\n",
       "      <td>0</td>\n",
       "      <td>0</td>\n",
       "      <td>1</td>\n",
       "      <td>0</td>\n",
       "      <td>0</td>\n",
       "      <td>0</td>\n",
       "    </tr>\n",
       "    <tr>\n",
       "      <th>1</th>\n",
       "      <td>33</td>\n",
       "      <td>34</td>\n",
       "      <td>4.5</td>\n",
       "      <td>20.183530</td>\n",
       "      <td>0</td>\n",
       "      <td>0</td>\n",
       "      <td>1</td>\n",
       "      <td>0</td>\n",
       "      <td>0</td>\n",
       "      <td>1</td>\n",
       "    </tr>\n",
       "    <tr>\n",
       "      <th>2</th>\n",
       "      <td>26</td>\n",
       "      <td>23</td>\n",
       "      <td>4.4</td>\n",
       "      <td>1.552758</td>\n",
       "      <td>0</td>\n",
       "      <td>0</td>\n",
       "      <td>0</td>\n",
       "      <td>0</td>\n",
       "      <td>0</td>\n",
       "      <td>0</td>\n",
       "    </tr>\n",
       "    <tr>\n",
       "      <th>3</th>\n",
       "      <td>21</td>\n",
       "      <td>38</td>\n",
       "      <td>4.7</td>\n",
       "      <td>7.790401</td>\n",
       "      <td>1</td>\n",
       "      <td>0</td>\n",
       "      <td>0</td>\n",
       "      <td>0</td>\n",
       "      <td>0</td>\n",
       "      <td>0</td>\n",
       "    </tr>\n",
       "    <tr>\n",
       "      <th>4</th>\n",
       "      <td>30</td>\n",
       "      <td>32</td>\n",
       "      <td>4.6</td>\n",
       "      <td>6.210138</td>\n",
       "      <td>0</td>\n",
       "      <td>0</td>\n",
       "      <td>1</td>\n",
       "      <td>0</td>\n",
       "      <td>0</td>\n",
       "      <td>1</td>\n",
       "    </tr>\n",
       "  </tbody>\n",
       "</table>\n",
       "</div>"
      ],
      "text/plain": [
       "   time_taken  delivery_person_age  delivery_person_ratings  beeline_distance  \\\n",
       "0          24                   37                      4.9          3.025149   \n",
       "1          33                   34                      4.5         20.183530   \n",
       "2          26                   23                      4.4          1.552758   \n",
       "3          21                   38                      4.7          7.790401   \n",
       "4          30                   32                      4.6          6.210138   \n",
       "\n",
       "   type_of_order_Buffet  type_of_order_Meal  type_of_order_Snack  \\\n",
       "0                     0                   0                    1   \n",
       "1                     0                   0                    1   \n",
       "2                     0                   0                    0   \n",
       "3                     1                   0                    0   \n",
       "4                     0                   0                    1   \n",
       "\n",
       "   type_of_vehicle_bicycle  type_of_vehicle_electric_scooter  \\\n",
       "0                        0                                 0   \n",
       "1                        0                                 0   \n",
       "2                        0                                 0   \n",
       "3                        0                                 0   \n",
       "4                        0                                 0   \n",
       "\n",
       "   type_of_vehicle_scooter  \n",
       "0                        0  \n",
       "1                        1  \n",
       "2                        0  \n",
       "3                        0  \n",
       "4                        1  "
      ]
     },
     "execution_count": 275,
     "metadata": {},
     "output_type": "execute_result"
    }
   ],
   "source": [
    "df_finished = pd.concat([\n",
    "    df[[\"time_taken\", \"delivery_person_age\", \"delivery_person_ratings\", \"beeline_distance\"]],\n",
    "    cat_cols_dummy\n",
    "], axis = 1)\n",
    "df_finished.head()"
   ]
  },
  {
   "cell_type": "code",
   "execution_count": 276,
   "id": "3233f61f",
   "metadata": {},
   "outputs": [],
   "source": [
    "df_finished.to_csv(\"data/deliverytime_processed.csv\")"
   ]
  }
 ],
 "metadata": {
  "kernelspec": {
   "display_name": "Python 3 (ipykernel)",
   "language": "python",
   "name": "python3"
  },
  "language_info": {
   "codemirror_mode": {
    "name": "ipython",
    "version": 3
   },
   "file_extension": ".py",
   "mimetype": "text/x-python",
   "name": "python",
   "nbconvert_exporter": "python",
   "pygments_lexer": "ipython3",
   "version": "3.9.12"
  }
 },
 "nbformat": 4,
 "nbformat_minor": 5
}
