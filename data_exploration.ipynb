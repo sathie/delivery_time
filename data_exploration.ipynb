{
 "cells": [
  {
   "cell_type": "markdown",
   "id": "a0053e5b",
   "metadata": {},
   "source": [
    "# Data Exploration"
   ]
  },
  {
   "cell_type": "code",
   "execution_count": 185,
   "id": "e546a48c",
   "metadata": {},
   "outputs": [],
   "source": [
    "import numpy as np\n",
    "import pandas as pd\n",
    "import seaborn as sns\n",
    "sns.set_theme()"
   ]
  },
  {
   "cell_type": "markdown",
   "id": "9e35d7f3",
   "metadata": {},
   "source": [
    "## Load data"
   ]
  },
  {
   "cell_type": "code",
   "execution_count": 186,
   "id": "c29442bc",
   "metadata": {},
   "outputs": [
    {
     "name": "stdout",
     "output_type": "stream",
     "text": [
      "Index(['ID', 'Delivery_person_ID', 'Delivery_person_Age',\n",
      "       'Delivery_person_Ratings', 'Restaurant_latitude',\n",
      "       'Restaurant_longitude', 'Delivery_location_latitude',\n",
      "       'Delivery_location_longitude', 'Type_of_order', 'Type_of_vehicle',\n",
      "       'Time_taken(min)'],\n",
      "      dtype='object')\n"
     ]
    },
    {
     "data": {
      "text/html": [
       "<div>\n",
       "<style scoped>\n",
       "    .dataframe tbody tr th:only-of-type {\n",
       "        vertical-align: middle;\n",
       "    }\n",
       "\n",
       "    .dataframe tbody tr th {\n",
       "        vertical-align: top;\n",
       "    }\n",
       "\n",
       "    .dataframe thead th {\n",
       "        text-align: right;\n",
       "    }\n",
       "</style>\n",
       "<table border=\"1\" class=\"dataframe\">\n",
       "  <thead>\n",
       "    <tr style=\"text-align: right;\">\n",
       "      <th></th>\n",
       "      <th>Delivery_person_Age</th>\n",
       "      <th>Delivery_person_Ratings</th>\n",
       "      <th>Restaurant_latitude</th>\n",
       "      <th>Restaurant_longitude</th>\n",
       "      <th>Delivery_location_latitude</th>\n",
       "      <th>Delivery_location_longitude</th>\n",
       "      <th>Time_taken(min)</th>\n",
       "    </tr>\n",
       "  </thead>\n",
       "  <tbody>\n",
       "    <tr>\n",
       "      <th>count</th>\n",
       "      <td>45593.000000</td>\n",
       "      <td>45593.000000</td>\n",
       "      <td>45593.000000</td>\n",
       "      <td>45593.000000</td>\n",
       "      <td>45593.000000</td>\n",
       "      <td>45593.000000</td>\n",
       "      <td>45593.000000</td>\n",
       "    </tr>\n",
       "    <tr>\n",
       "      <th>mean</th>\n",
       "      <td>29.544075</td>\n",
       "      <td>4.632367</td>\n",
       "      <td>17.017729</td>\n",
       "      <td>70.231332</td>\n",
       "      <td>17.465186</td>\n",
       "      <td>70.845702</td>\n",
       "      <td>26.294607</td>\n",
       "    </tr>\n",
       "    <tr>\n",
       "      <th>std</th>\n",
       "      <td>5.696793</td>\n",
       "      <td>0.327708</td>\n",
       "      <td>8.185109</td>\n",
       "      <td>22.883647</td>\n",
       "      <td>7.335122</td>\n",
       "      <td>21.118812</td>\n",
       "      <td>9.383806</td>\n",
       "    </tr>\n",
       "    <tr>\n",
       "      <th>min</th>\n",
       "      <td>15.000000</td>\n",
       "      <td>1.000000</td>\n",
       "      <td>-30.905562</td>\n",
       "      <td>-88.366217</td>\n",
       "      <td>0.010000</td>\n",
       "      <td>0.010000</td>\n",
       "      <td>10.000000</td>\n",
       "    </tr>\n",
       "    <tr>\n",
       "      <th>25%</th>\n",
       "      <td>25.000000</td>\n",
       "      <td>4.600000</td>\n",
       "      <td>12.933284</td>\n",
       "      <td>73.170000</td>\n",
       "      <td>12.988453</td>\n",
       "      <td>73.280000</td>\n",
       "      <td>19.000000</td>\n",
       "    </tr>\n",
       "    <tr>\n",
       "      <th>50%</th>\n",
       "      <td>29.000000</td>\n",
       "      <td>4.700000</td>\n",
       "      <td>18.546947</td>\n",
       "      <td>75.898497</td>\n",
       "      <td>18.633934</td>\n",
       "      <td>76.002574</td>\n",
       "      <td>26.000000</td>\n",
       "    </tr>\n",
       "    <tr>\n",
       "      <th>75%</th>\n",
       "      <td>34.000000</td>\n",
       "      <td>4.800000</td>\n",
       "      <td>22.728163</td>\n",
       "      <td>78.044095</td>\n",
       "      <td>22.785049</td>\n",
       "      <td>78.107044</td>\n",
       "      <td>32.000000</td>\n",
       "    </tr>\n",
       "    <tr>\n",
       "      <th>max</th>\n",
       "      <td>50.000000</td>\n",
       "      <td>6.000000</td>\n",
       "      <td>30.914057</td>\n",
       "      <td>88.433452</td>\n",
       "      <td>31.054057</td>\n",
       "      <td>88.563452</td>\n",
       "      <td>54.000000</td>\n",
       "    </tr>\n",
       "  </tbody>\n",
       "</table>\n",
       "</div>"
      ],
      "text/plain": [
       "       Delivery_person_Age  Delivery_person_Ratings  Restaurant_latitude  \\\n",
       "count         45593.000000             45593.000000         45593.000000   \n",
       "mean             29.544075                 4.632367            17.017729   \n",
       "std               5.696793                 0.327708             8.185109   \n",
       "min              15.000000                 1.000000           -30.905562   \n",
       "25%              25.000000                 4.600000            12.933284   \n",
       "50%              29.000000                 4.700000            18.546947   \n",
       "75%              34.000000                 4.800000            22.728163   \n",
       "max              50.000000                 6.000000            30.914057   \n",
       "\n",
       "       Restaurant_longitude  Delivery_location_latitude  \\\n",
       "count          45593.000000                45593.000000   \n",
       "mean              70.231332                   17.465186   \n",
       "std               22.883647                    7.335122   \n",
       "min              -88.366217                    0.010000   \n",
       "25%               73.170000                   12.988453   \n",
       "50%               75.898497                   18.633934   \n",
       "75%               78.044095                   22.785049   \n",
       "max               88.433452                   31.054057   \n",
       "\n",
       "       Delivery_location_longitude  Time_taken(min)  \n",
       "count                 45593.000000     45593.000000  \n",
       "mean                     70.845702        26.294607  \n",
       "std                      21.118812         9.383806  \n",
       "min                       0.010000        10.000000  \n",
       "25%                      73.280000        19.000000  \n",
       "50%                      76.002574        26.000000  \n",
       "75%                      78.107044        32.000000  \n",
       "max                      88.563452        54.000000  "
      ]
     },
     "execution_count": 186,
     "metadata": {},
     "output_type": "execute_result"
    }
   ],
   "source": [
    "df = pd.read_csv(\"data/deliverytime.csv\")\n",
    "\n",
    "print(df.columns)\n",
    "\n",
    "df.describe()"
   ]
  },
  {
   "cell_type": "markdown",
   "id": "5f9a6fc3",
   "metadata": {},
   "source": [
    "Some of the column names aren't great (e.g. \"Time_taken(min)\"). Let's rename them first."
   ]
  },
  {
   "cell_type": "code",
   "execution_count": 187,
   "id": "a6e5923d",
   "metadata": {},
   "outputs": [
    {
     "name": "stdout",
     "output_type": "stream",
     "text": [
      "['id', 'delivery_person_id', 'delivery_person_age', 'delivery_person_ratings', 'restaurant_latitude', 'restaurant_longitude', 'delivery_location_latitude', 'delivery_location_longitude', 'type_of_order', 'type_of_vehicle', 'time_taken']\n"
     ]
    }
   ],
   "source": [
    "cols = df.columns.tolist()\n",
    "cols[-1] = \"time_taken\"\n",
    "cols = [col.lower() for col in cols]\n",
    "df.columns = cols\n",
    "print(cols)"
   ]
  },
  {
   "cell_type": "markdown",
   "id": "7e7aeec8",
   "metadata": {},
   "source": [
    "## Missing values"
   ]
  },
  {
   "cell_type": "code",
   "execution_count": 188,
   "id": "1cb16b10",
   "metadata": {},
   "outputs": [
    {
     "data": {
      "text/plain": [
       "id                             0\n",
       "delivery_person_id             0\n",
       "delivery_person_age            0\n",
       "delivery_person_ratings        0\n",
       "restaurant_latitude            0\n",
       "restaurant_longitude           0\n",
       "delivery_location_latitude     0\n",
       "delivery_location_longitude    0\n",
       "type_of_order                  0\n",
       "type_of_vehicle                0\n",
       "time_taken                     0\n",
       "dtype: int64"
      ]
     },
     "execution_count": 188,
     "metadata": {},
     "output_type": "execute_result"
    }
   ],
   "source": [
    "df.isnull().sum()"
   ]
  },
  {
   "cell_type": "markdown",
   "id": "0ccdde1b",
   "metadata": {},
   "source": [
    "There are no missing values present in the dataset, so there is no need to impute or to drop any columns or rows."
   ]
  },
  {
   "cell_type": "markdown",
   "id": "80a69c52",
   "metadata": {},
   "source": [
    "## Dependent variable"
   ]
  },
  {
   "cell_type": "code",
   "execution_count": 189,
   "id": "1a50b1a4",
   "metadata": {},
   "outputs": [
    {
     "name": "stdout",
     "output_type": "stream",
     "text": [
      "Average delivery time: 26.29460662821047\n",
      "Median delivery time: 26.0\n"
     ]
    },
    {
     "data": {
      "text/plain": [
       "<matplotlib.legend.Legend at 0x7f9698cf5580>"
      ]
     },
     "execution_count": 189,
     "metadata": {},
     "output_type": "execute_result"
    },
    {
     "data": {
      "image/png": "[encoded data removed]",
      "text/plain": [
       "<Figure size 432x288 with 1 Axes>"
      ]
     },
     "metadata": {},
     "output_type": "display_data"
    }
   ],
   "source": [
    "avg_time = df.time_taken.mean()\n",
    "median_time = df.time_taken.median()\n",
    "print(f\"Average delivery time: {avg_time}\")\n",
    "print(f\"Median delivery time: {median_time}\")\n",
    "hist = sns.histplot(df.time_taken)\n",
    "hist.vlines(avg_time, 0, 2250, color = \"black\", label = \"Avg. Time\")\n",
    "hist.vlines(median_time, 0, 2250, color = \"green\", label = \"Median Time\")\n",
    "hist.set(xlabel = \"Time taken\")\n",
    "hist.legend()"
   ]
  },
  {
   "cell_type": "markdown",
   "id": "b2c32891",
   "metadata": {},
   "source": [
    "The distribution has a positive skew, and the mean is slightly above the median. The fastest deliveries take only ten minutes, the slowest 54 minutes."
   ]
  },
  {
   "cell_type": "markdown",
   "id": "270ad076",
   "metadata": {},
   "source": [
    "## Categorical independent variables"
   ]
  },
  {
   "cell_type": "code",
   "execution_count": 190,
   "id": "dcaab582",
   "metadata": {},
   "outputs": [
    {
     "data": {
      "text/html": [
       "<div>\n",
       "<style scoped>\n",
       "    .dataframe tbody tr th:only-of-type {\n",
       "        vertical-align: middle;\n",
       "    }\n",
       "\n",
       "    .dataframe tbody tr th {\n",
       "        vertical-align: top;\n",
       "    }\n",
       "\n",
       "    .dataframe thead th {\n",
       "        text-align: right;\n",
       "    }\n",
       "</style>\n",
       "<table border=\"1\" class=\"dataframe\">\n",
       "  <thead>\n",
       "    <tr style=\"text-align: right;\">\n",
       "      <th></th>\n",
       "      <th>id</th>\n",
       "      <th>delivery_person_id</th>\n",
       "      <th>type_of_order</th>\n",
       "      <th>type_of_vehicle</th>\n",
       "    </tr>\n",
       "  </thead>\n",
       "  <tbody>\n",
       "    <tr>\n",
       "      <th>0</th>\n",
       "      <td>4607</td>\n",
       "      <td>INDORES13DEL02</td>\n",
       "      <td>Snack</td>\n",
       "      <td>motorcycle</td>\n",
       "    </tr>\n",
       "    <tr>\n",
       "      <th>1</th>\n",
       "      <td>B379</td>\n",
       "      <td>BANGRES18DEL02</td>\n",
       "      <td>Snack</td>\n",
       "      <td>scooter</td>\n",
       "    </tr>\n",
       "    <tr>\n",
       "      <th>2</th>\n",
       "      <td>5D6D</td>\n",
       "      <td>BANGRES19DEL01</td>\n",
       "      <td>Drinks</td>\n",
       "      <td>motorcycle</td>\n",
       "    </tr>\n",
       "    <tr>\n",
       "      <th>3</th>\n",
       "      <td>7A6A</td>\n",
       "      <td>COIMBRES13DEL02</td>\n",
       "      <td>Buffet</td>\n",
       "      <td>motorcycle</td>\n",
       "    </tr>\n",
       "    <tr>\n",
       "      <th>4</th>\n",
       "      <td>70A2</td>\n",
       "      <td>CHENRES12DEL01</td>\n",
       "      <td>Snack</td>\n",
       "      <td>scooter</td>\n",
       "    </tr>\n",
       "  </tbody>\n",
       "</table>\n",
       "</div>"
      ],
      "text/plain": [
       "     id delivery_person_id type_of_order type_of_vehicle\n",
       "0  4607     INDORES13DEL02        Snack      motorcycle \n",
       "1  B379     BANGRES18DEL02        Snack         scooter \n",
       "2  5D6D     BANGRES19DEL01       Drinks      motorcycle \n",
       "3  7A6A    COIMBRES13DEL02       Buffet      motorcycle \n",
       "4  70A2     CHENRES12DEL01        Snack         scooter "
      ]
     },
     "execution_count": 190,
     "metadata": {},
     "output_type": "execute_result"
    }
   ],
   "source": [
    "cat_cols = df.select_dtypes(include='object')\n",
    "cat_cols.head()"
   ]
  },
  {
   "cell_type": "markdown",
   "id": "7493652f",
   "metadata": {},
   "source": [
    "There are four categorical variables: delivery id, delivery person id, the type of order and the type of vehicle. The id is largely meaningless and can be dropped first."
   ]
  },
  {
   "cell_type": "code",
   "execution_count": 191,
   "id": "892a0675",
   "metadata": {},
   "outputs": [],
   "source": [
    "cat_cols.drop(\"id\", axis = 1, inplace = True)"
   ]
  },
  {
   "cell_type": "markdown",
   "id": "ecb8b2e5",
   "metadata": {},
   "source": [
    "### Type of order"
   ]
  },
  {
   "cell_type": "code",
   "execution_count": 192,
   "id": "e60e5ab3",
   "metadata": {},
   "outputs": [
    {
     "name": "stdout",
     "output_type": "stream",
     "text": [
      "Number of unique order types: 4\n"
     ]
    },
    {
     "data": {
      "text/plain": [
       "['Snack ', 'Drinks ', 'Buffet ', 'Meal ']"
      ]
     },
     "execution_count": 192,
     "metadata": {},
     "output_type": "execute_result"
    }
   ],
   "source": [
    "print(f\"Number of unique order types: {cat_cols.type_of_order.nunique()}\")\n",
    "cat_cols.type_of_order.unique().tolist()"
   ]
  },
  {
   "cell_type": "markdown",
   "id": "bb011202",
   "metadata": {},
   "source": [
    "The categories have superfluous whitespaces at the end of the string. These are removed first."
   ]
  },
  {
   "cell_type": "code",
   "execution_count": 193,
   "id": "3402724c",
   "metadata": {},
   "outputs": [],
   "source": [
    "cat_cols[\"type_of_order\"] = [cell.strip() for cell in cat_cols.type_of_order]"
   ]
  },
  {
   "cell_type": "code",
   "execution_count": 194,
   "id": "3b4f4881",
   "metadata": {},
   "outputs": [
    {
     "data": {
      "text/plain": [
       "<AxesSubplot:xlabel='type_of_order', ylabel='time_taken'>"
      ]
     },
     "execution_count": 194,
     "metadata": {},
     "output_type": "execute_result"
    },
    {
     "data": {
      "image/png": "[encoded data removed]",
      "text/plain": [
       "<Figure size 432x288 with 1 Axes>"
      ]
     },
     "metadata": {},
     "output_type": "display_data"
    }
   ],
   "source": [
    "sns.boxplot(x = df.type_of_order, y = df.time_taken)"
   ]
  },
  {
   "cell_type": "code",
   "execution_count": 195,
   "id": "be351d79",
   "metadata": {},
   "outputs": [
    {
     "data": {
      "text/html": [
       "<div>\n",
       "<style scoped>\n",
       "    .dataframe tbody tr th:only-of-type {\n",
       "        vertical-align: middle;\n",
       "    }\n",
       "\n",
       "    .dataframe tbody tr th {\n",
       "        vertical-align: top;\n",
       "    }\n",
       "\n",
       "    .dataframe thead th {\n",
       "        text-align: right;\n",
       "    }\n",
       "</style>\n",
       "<table border=\"1\" class=\"dataframe\">\n",
       "  <thead>\n",
       "    <tr style=\"text-align: right;\">\n",
       "      <th></th>\n",
       "      <th>count</th>\n",
       "      <th>mean</th>\n",
       "      <th>std</th>\n",
       "      <th>min</th>\n",
       "      <th>25%</th>\n",
       "      <th>50%</th>\n",
       "      <th>75%</th>\n",
       "      <th>max</th>\n",
       "    </tr>\n",
       "    <tr>\n",
       "      <th>type_of_order</th>\n",
       "      <th></th>\n",
       "      <th></th>\n",
       "      <th></th>\n",
       "      <th></th>\n",
       "      <th></th>\n",
       "      <th></th>\n",
       "      <th></th>\n",
       "      <th></th>\n",
       "    </tr>\n",
       "  </thead>\n",
       "  <tbody>\n",
       "    <tr>\n",
       "      <th>Buffet</th>\n",
       "      <td>11280.0</td>\n",
       "      <td>26.283511</td>\n",
       "      <td>9.411344</td>\n",
       "      <td>10.0</td>\n",
       "      <td>19.0</td>\n",
       "      <td>26.0</td>\n",
       "      <td>32.0</td>\n",
       "      <td>54.0</td>\n",
       "    </tr>\n",
       "    <tr>\n",
       "      <th>Drinks</th>\n",
       "      <td>11322.0</td>\n",
       "      <td>26.187953</td>\n",
       "      <td>9.298465</td>\n",
       "      <td>10.0</td>\n",
       "      <td>19.0</td>\n",
       "      <td>25.0</td>\n",
       "      <td>32.0</td>\n",
       "      <td>54.0</td>\n",
       "    </tr>\n",
       "    <tr>\n",
       "      <th>Meal</th>\n",
       "      <td>11458.0</td>\n",
       "      <td>26.419270</td>\n",
       "      <td>9.424849</td>\n",
       "      <td>10.0</td>\n",
       "      <td>19.0</td>\n",
       "      <td>26.0</td>\n",
       "      <td>33.0</td>\n",
       "      <td>54.0</td>\n",
       "    </tr>\n",
       "    <tr>\n",
       "      <th>Snack</th>\n",
       "      <td>11533.0</td>\n",
       "      <td>26.286309</td>\n",
       "      <td>9.399147</td>\n",
       "      <td>10.0</td>\n",
       "      <td>19.0</td>\n",
       "      <td>26.0</td>\n",
       "      <td>32.0</td>\n",
       "      <td>54.0</td>\n",
       "    </tr>\n",
       "  </tbody>\n",
       "</table>\n",
       "</div>"
      ],
      "text/plain": [
       "                 count       mean       std   min   25%   50%   75%   max\n",
       "type_of_order                                                            \n",
       "Buffet         11280.0  26.283511  9.411344  10.0  19.0  26.0  32.0  54.0\n",
       "Drinks         11322.0  26.187953  9.298465  10.0  19.0  25.0  32.0  54.0\n",
       "Meal           11458.0  26.419270  9.424849  10.0  19.0  26.0  33.0  54.0\n",
       "Snack          11533.0  26.286309  9.399147  10.0  19.0  26.0  32.0  54.0"
      ]
     },
     "execution_count": 195,
     "metadata": {},
     "output_type": "execute_result"
    }
   ],
   "source": [
    "df.groupby(\"type_of_order\")[\"time_taken\"].describe()"
   ]
  },
  {
   "cell_type": "markdown",
   "id": "8723662d",
   "metadata": {},
   "source": [
    "Meals tend to take slightly longer to deliver, but the difference isn't large."
   ]
  },
  {
   "cell_type": "markdown",
   "id": "a372aab9",
   "metadata": {},
   "source": [
    "### Type of vehicle"
   ]
  },
  {
   "cell_type": "code",
   "execution_count": 196,
   "id": "a90b9127",
   "metadata": {},
   "outputs": [
    {
     "name": "stdout",
     "output_type": "stream",
     "text": [
      "Number of unique vehicle types: 4\n"
     ]
    },
    {
     "data": {
      "text/plain": [
       "['motorcycle ', 'scooter ', 'electric_scooter ', 'bicycle ']"
      ]
     },
     "execution_count": 196,
     "metadata": {},
     "output_type": "execute_result"
    }
   ],
   "source": [
    "print(f\"Number of unique vehicle types: {cat_cols.type_of_vehicle.nunique()}\")\n",
    "cat_cols.type_of_vehicle.unique().tolist()"
   ]
  },
  {
   "cell_type": "code",
   "execution_count": 197,
   "id": "1446787c",
   "metadata": {},
   "outputs": [],
   "source": [
    "cat_cols[\"type_of_vehicle\"] = [cell.strip() for cell in cat_cols.type_of_vehicle]"
   ]
  },
  {
   "cell_type": "code",
   "execution_count": 198,
   "id": "8f9bebdf",
   "metadata": {},
   "outputs": [
    {
     "data": {
      "text/plain": [
       "<AxesSubplot:xlabel='type_of_vehicle', ylabel='time_taken'>"
      ]
     },
     "execution_count": 198,
     "metadata": {},
     "output_type": "execute_result"
    },
    {
     "data": {
      "image/png": "[encoded data removed]",
      "text/plain": [
       "<Figure size 432x288 with 1 Axes>"
      ]
     },
     "metadata": {},
     "output_type": "display_data"
    }
   ],
   "source": [
    "sns.boxplot(x = df.type_of_vehicle, y = df.time_taken)"
   ]
  },
  {
   "cell_type": "code",
   "execution_count": 199,
   "id": "1df3c125",
   "metadata": {},
   "outputs": [
    {
     "data": {
      "text/html": [
       "<div>\n",
       "<style scoped>\n",
       "    .dataframe tbody tr th:only-of-type {\n",
       "        vertical-align: middle;\n",
       "    }\n",
       "\n",
       "    .dataframe tbody tr th {\n",
       "        vertical-align: top;\n",
       "    }\n",
       "\n",
       "    .dataframe thead th {\n",
       "        text-align: right;\n",
       "    }\n",
       "</style>\n",
       "<table border=\"1\" class=\"dataframe\">\n",
       "  <thead>\n",
       "    <tr style=\"text-align: right;\">\n",
       "      <th></th>\n",
       "      <th>count</th>\n",
       "      <th>mean</th>\n",
       "      <th>std</th>\n",
       "      <th>min</th>\n",
       "      <th>25%</th>\n",
       "      <th>50%</th>\n",
       "      <th>75%</th>\n",
       "      <th>max</th>\n",
       "    </tr>\n",
       "    <tr>\n",
       "      <th>type_of_vehicle</th>\n",
       "      <th></th>\n",
       "      <th></th>\n",
       "      <th></th>\n",
       "      <th></th>\n",
       "      <th></th>\n",
       "      <th></th>\n",
       "      <th></th>\n",
       "      <th></th>\n",
       "    </tr>\n",
       "  </thead>\n",
       "  <tbody>\n",
       "    <tr>\n",
       "      <th>bicycle</th>\n",
       "      <td>68.0</td>\n",
       "      <td>26.426471</td>\n",
       "      <td>9.262855</td>\n",
       "      <td>10.0</td>\n",
       "      <td>19.0</td>\n",
       "      <td>26.0</td>\n",
       "      <td>32.25</td>\n",
       "      <td>47.0</td>\n",
       "    </tr>\n",
       "    <tr>\n",
       "      <th>electric_scooter</th>\n",
       "      <td>3814.0</td>\n",
       "      <td>24.470110</td>\n",
       "      <td>8.610859</td>\n",
       "      <td>10.0</td>\n",
       "      <td>17.0</td>\n",
       "      <td>24.0</td>\n",
       "      <td>30.00</td>\n",
       "      <td>53.0</td>\n",
       "    </tr>\n",
       "    <tr>\n",
       "      <th>motorcycle</th>\n",
       "      <td>26435.0</td>\n",
       "      <td>27.605674</td>\n",
       "      <td>9.647811</td>\n",
       "      <td>10.0</td>\n",
       "      <td>20.0</td>\n",
       "      <td>26.0</td>\n",
       "      <td>34.00</td>\n",
       "      <td>54.0</td>\n",
       "    </tr>\n",
       "    <tr>\n",
       "      <th>scooter</th>\n",
       "      <td>15276.0</td>\n",
       "      <td>24.480754</td>\n",
       "      <td>8.704238</td>\n",
       "      <td>10.0</td>\n",
       "      <td>17.0</td>\n",
       "      <td>24.0</td>\n",
       "      <td>30.00</td>\n",
       "      <td>54.0</td>\n",
       "    </tr>\n",
       "  </tbody>\n",
       "</table>\n",
       "</div>"
      ],
      "text/plain": [
       "                     count       mean       std   min   25%   50%    75%   max\n",
       "type_of_vehicle                                                               \n",
       "bicycle               68.0  26.426471  9.262855  10.0  19.0  26.0  32.25  47.0\n",
       "electric_scooter    3814.0  24.470110  8.610859  10.0  17.0  24.0  30.00  53.0\n",
       "motorcycle         26435.0  27.605674  9.647811  10.0  20.0  26.0  34.00  54.0\n",
       "scooter            15276.0  24.480754  8.704238  10.0  17.0  24.0  30.00  54.0"
      ]
     },
     "execution_count": 199,
     "metadata": {},
     "output_type": "execute_result"
    }
   ],
   "source": [
    "df.groupby(\"type_of_vehicle\")[\"time_taken\"].describe()"
   ]
  },
  {
   "cell_type": "markdown",
   "id": "67a49c4b",
   "metadata": {},
   "source": [
    "Deliveries brought by motorcycle or bicycle tend to take longer to deliver. This doesn't necessarily have to be a causal relationship. It could simply be that motorcycles are used to reach destinations that are farther away. It's also of note that only very few deliveries are done by bicycle, so the summary statistics might not be very meaningful in this case."
   ]
  },
  {
   "cell_type": "markdown",
   "id": "80381b98",
   "metadata": {},
   "source": [
    "### Delivery person"
   ]
  },
  {
   "cell_type": "code",
   "execution_count": 200,
   "id": "eeec9e4a",
   "metadata": {},
   "outputs": [
    {
     "name": "stdout",
     "output_type": "stream",
     "text": [
      "Number of unique delivery person ids: 1320\n"
     ]
    }
   ],
   "source": [
    "print(f\"Number of unique delivery person ids: {cat_cols.delivery_person_id.nunique()}\")"
   ]
  },
  {
   "cell_type": "code",
   "execution_count": 201,
   "id": "5d98c051",
   "metadata": {},
   "outputs": [
    {
     "data": {
      "text/plain": [
       "count    1320.000000\n",
       "mean       34.540152\n",
       "std        21.305850\n",
       "min         5.000000\n",
       "25%        13.000000\n",
       "50%        41.000000\n",
       "75%        56.000000\n",
       "max        67.000000\n",
       "Name: delivery_person_id, dtype: float64"
      ]
     },
     "execution_count": 201,
     "metadata": {},
     "output_type": "execute_result"
    }
   ],
   "source": [
    "person_id_table = cat_cols.delivery_person_id.value_counts()\n",
    "person_id_table.describe()"
   ]
  },
  {
   "cell_type": "markdown",
   "id": "8eed844f",
   "metadata": {},
   "source": [
    "The average delivery person has carried out 34.5 deliveries. The delivery person with the fewest number of deliveries has 5, while the most active delivery person has 67 deliveries under their belt. Considering the high number of delivery persons and the relatively few deliveries per person, dummifying this variable might be more trouple than it is worth. It is dropped for now."
   ]
  },
  {
   "cell_type": "code",
   "execution_count": 202,
   "id": "4b0c638c",
   "metadata": {},
   "outputs": [],
   "source": [
    "cat_cols.drop(\"delivery_person_id\", axis = 1, inplace = True)"
   ]
  },
  {
   "cell_type": "markdown",
   "id": "83af21b5",
   "metadata": {},
   "source": [
    "### Dummifying"
   ]
  },
  {
   "cell_type": "markdown",
   "id": "59a38637",
   "metadata": {},
   "source": [
    "The type of vehicle and the type of order have relatively few unique categories and they might have a relation to the outcome variable. These two variables will be dummified, while the other two variables (order ID and delivery person ID) have been dropped."
   ]
  },
  {
   "cell_type": "code",
   "execution_count": 203,
   "id": "aba21abe",
   "metadata": {},
   "outputs": [
    {
     "name": "stdout",
     "output_type": "stream",
     "text": [
      "Index(['type_of_order_Buffet', 'type_of_order_Drinks', 'type_of_order_Meal',\n",
      "       'type_of_order_Snack', 'type_of_vehicle_bicycle',\n",
      "       'type_of_vehicle_electric_scooter', 'type_of_vehicle_motorcycle',\n",
      "       'type_of_vehicle_scooter'],\n",
      "      dtype='object')\n"
     ]
    }
   ],
   "source": [
    "cat_cols_dummy = pd.get_dummies(cat_cols)\n",
    "print(cat_cols_dummy.columns)"
   ]
  },
  {
   "cell_type": "markdown",
   "id": "f79a3b99",
   "metadata": {},
   "source": [
    "For each variable, the first category is dropped and used as reference category. In the case of the type of order, the category I've chosen as reference is \"Drinks\" as they are easy to prepare and slightly faster to deliver. The type of vehicle chosen as the reference category is \"Motorcyle\" because they are most frequently used."
   ]
  },
  {
   "cell_type": "code",
   "execution_count": 204,
   "id": "ce927c7b",
   "metadata": {},
   "outputs": [
    {
     "data": {
      "text/html": [
       "<div>\n",
       "<style scoped>\n",
       "    .dataframe tbody tr th:only-of-type {\n",
       "        vertical-align: middle;\n",
       "    }\n",
       "\n",
       "    .dataframe tbody tr th {\n",
       "        vertical-align: top;\n",
       "    }\n",
       "\n",
       "    .dataframe thead th {\n",
       "        text-align: right;\n",
       "    }\n",
       "</style>\n",
       "<table border=\"1\" class=\"dataframe\">\n",
       "  <thead>\n",
       "    <tr style=\"text-align: right;\">\n",
       "      <th></th>\n",
       "      <th>type_of_order_Buffet</th>\n",
       "      <th>type_of_order_Meal</th>\n",
       "      <th>type_of_order_Snack</th>\n",
       "      <th>type_of_vehicle_bicycle</th>\n",
       "      <th>type_of_vehicle_electric_scooter</th>\n",
       "      <th>type_of_vehicle_scooter</th>\n",
       "    </tr>\n",
       "  </thead>\n",
       "  <tbody>\n",
       "    <tr>\n",
       "      <th>0</th>\n",
       "      <td>0</td>\n",
       "      <td>0</td>\n",
       "      <td>1</td>\n",
       "      <td>0</td>\n",
       "      <td>0</td>\n",
       "      <td>0</td>\n",
       "    </tr>\n",
       "    <tr>\n",
       "      <th>1</th>\n",
       "      <td>0</td>\n",
       "      <td>0</td>\n",
       "      <td>1</td>\n",
       "      <td>0</td>\n",
       "      <td>0</td>\n",
       "      <td>1</td>\n",
       "    </tr>\n",
       "    <tr>\n",
       "      <th>2</th>\n",
       "      <td>0</td>\n",
       "      <td>0</td>\n",
       "      <td>0</td>\n",
       "      <td>0</td>\n",
       "      <td>0</td>\n",
       "      <td>0</td>\n",
       "    </tr>\n",
       "    <tr>\n",
       "      <th>3</th>\n",
       "      <td>1</td>\n",
       "      <td>0</td>\n",
       "      <td>0</td>\n",
       "      <td>0</td>\n",
       "      <td>0</td>\n",
       "      <td>0</td>\n",
       "    </tr>\n",
       "    <tr>\n",
       "      <th>4</th>\n",
       "      <td>0</td>\n",
       "      <td>0</td>\n",
       "      <td>1</td>\n",
       "      <td>0</td>\n",
       "      <td>0</td>\n",
       "      <td>1</td>\n",
       "    </tr>\n",
       "  </tbody>\n",
       "</table>\n",
       "</div>"
      ],
      "text/plain": [
       "   type_of_order_Buffet  type_of_order_Meal  type_of_order_Snack  \\\n",
       "0                     0                   0                    1   \n",
       "1                     0                   0                    1   \n",
       "2                     0                   0                    0   \n",
       "3                     1                   0                    0   \n",
       "4                     0                   0                    1   \n",
       "\n",
       "   type_of_vehicle_bicycle  type_of_vehicle_electric_scooter  \\\n",
       "0                        0                                 0   \n",
       "1                        0                                 0   \n",
       "2                        0                                 0   \n",
       "3                        0                                 0   \n",
       "4                        0                                 0   \n",
       "\n",
       "   type_of_vehicle_scooter  \n",
       "0                        0  \n",
       "1                        1  \n",
       "2                        0  \n",
       "3                        0  \n",
       "4                        1  "
      ]
     },
     "execution_count": 204,
     "metadata": {},
     "output_type": "execute_result"
    }
   ],
   "source": [
    "cat_cols_dummy.drop([\"type_of_order_Drinks\", \"type_of_vehicle_motorcycle\"], axis = 1, inplace = True)\n",
    "cat_cols_dummy.head()"
   ]
  },
  {
   "cell_type": "markdown",
   "id": "460d61ef",
   "metadata": {},
   "source": [
    "## Numeric independent variables"
   ]
  },
  {
   "cell_type": "markdown",
   "id": "6d643b0f",
   "metadata": {},
   "source": [
    "### Distance"
   ]
  },
  {
   "cell_type": "markdown",
   "id": "440e0bc8",
   "metadata": {},
   "source": [
    "The variables 'restaurant_latitude', 'restaurant_longitude', 'delivery_location_latitude', 'delivery_location_longitude' can be used to calculate beeline location. Of course, delivery drivers can't drive in a straight line to their location, but calculating exact distance would be much more difficult. So this is still a good enough approximation."
   ]
  },
  {
   "cell_type": "markdown",
   "id": "1672a4d0",
   "metadata": {},
   "source": [
    "But first, there seem to be both negative and positive values in the data. Either these locations are very far apart, or there is some error in the data."
   ]
  },
  {
   "cell_type": "code",
   "execution_count": 205,
   "id": "a863482e",
   "metadata": {},
   "outputs": [
    {
     "data": {
      "text/html": [
       "<div>\n",
       "<style scoped>\n",
       "    .dataframe tbody tr th:only-of-type {\n",
       "        vertical-align: middle;\n",
       "    }\n",
       "\n",
       "    .dataframe tbody tr th {\n",
       "        vertical-align: top;\n",
       "    }\n",
       "\n",
       "    .dataframe thead th {\n",
       "        text-align: right;\n",
       "    }\n",
       "</style>\n",
       "<table border=\"1\" class=\"dataframe\">\n",
       "  <thead>\n",
       "    <tr style=\"text-align: right;\">\n",
       "      <th></th>\n",
       "      <th>id</th>\n",
       "      <th>delivery_person_id</th>\n",
       "      <th>delivery_person_age</th>\n",
       "      <th>delivery_person_ratings</th>\n",
       "      <th>restaurant_latitude</th>\n",
       "      <th>restaurant_longitude</th>\n",
       "      <th>delivery_location_latitude</th>\n",
       "      <th>delivery_location_longitude</th>\n",
       "      <th>type_of_order</th>\n",
       "      <th>type_of_vehicle</th>\n",
       "      <th>time_taken</th>\n",
       "    </tr>\n",
       "  </thead>\n",
       "  <tbody>\n",
       "    <tr>\n",
       "      <th>92</th>\n",
       "      <td>C042</td>\n",
       "      <td>AGRRES010DEL01</td>\n",
       "      <td>34</td>\n",
       "      <td>4.7</td>\n",
       "      <td>-27.163303</td>\n",
       "      <td>78.057044</td>\n",
       "      <td>27.233303</td>\n",
       "      <td>78.127044</td>\n",
       "      <td>Drinks</td>\n",
       "      <td>scooter</td>\n",
       "      <td>15</td>\n",
       "    </tr>\n",
       "    <tr>\n",
       "      <th>283</th>\n",
       "      <td>C044</td>\n",
       "      <td>AGRRES12DEL03</td>\n",
       "      <td>32</td>\n",
       "      <td>4.7</td>\n",
       "      <td>-27.165108</td>\n",
       "      <td>78.015053</td>\n",
       "      <td>27.225108</td>\n",
       "      <td>78.075053</td>\n",
       "      <td>Meal</td>\n",
       "      <td>scooter</td>\n",
       "      <td>31</td>\n",
       "    </tr>\n",
       "    <tr>\n",
       "      <th>289</th>\n",
       "      <td>4DB</td>\n",
       "      <td>PUNERES02DEL03</td>\n",
       "      <td>29</td>\n",
       "      <td>4.6</td>\n",
       "      <td>-18.551440</td>\n",
       "      <td>-73.804855</td>\n",
       "      <td>18.611440</td>\n",
       "      <td>73.864855</td>\n",
       "      <td>Meal</td>\n",
       "      <td>scooter</td>\n",
       "      <td>12</td>\n",
       "    </tr>\n",
       "    <tr>\n",
       "      <th>425</th>\n",
       "      <td>C003</td>\n",
       "      <td>DEHRES13DEL02</td>\n",
       "      <td>29</td>\n",
       "      <td>4.6</td>\n",
       "      <td>-30.366322</td>\n",
       "      <td>-78.070453</td>\n",
       "      <td>30.496322</td>\n",
       "      <td>78.200453</td>\n",
       "      <td>Snack</td>\n",
       "      <td>scooter</td>\n",
       "      <td>20</td>\n",
       "    </tr>\n",
       "    <tr>\n",
       "      <th>534</th>\n",
       "      <td>473</td>\n",
       "      <td>MYSRES07DEL03</td>\n",
       "      <td>29</td>\n",
       "      <td>4.6</td>\n",
       "      <td>-12.325461</td>\n",
       "      <td>-76.632278</td>\n",
       "      <td>12.385461</td>\n",
       "      <td>76.692278</td>\n",
       "      <td>Buffet</td>\n",
       "      <td>scooter</td>\n",
       "      <td>16</td>\n",
       "    </tr>\n",
       "    <tr>\n",
       "      <th>...</th>\n",
       "      <td>...</td>\n",
       "      <td>...</td>\n",
       "      <td>...</td>\n",
       "      <td>...</td>\n",
       "      <td>...</td>\n",
       "      <td>...</td>\n",
       "      <td>...</td>\n",
       "      <td>...</td>\n",
       "      <td>...</td>\n",
       "      <td>...</td>\n",
       "      <td>...</td>\n",
       "    </tr>\n",
       "    <tr>\n",
       "      <th>44933</th>\n",
       "      <td>C0C2</td>\n",
       "      <td>AURGRES03DEL03</td>\n",
       "      <td>30</td>\n",
       "      <td>4.9</td>\n",
       "      <td>-19.874733</td>\n",
       "      <td>75.353942</td>\n",
       "      <td>19.904733</td>\n",
       "      <td>75.383942</td>\n",
       "      <td>Buffet</td>\n",
       "      <td>motorcycle</td>\n",
       "      <td>15</td>\n",
       "    </tr>\n",
       "    <tr>\n",
       "      <th>45020</th>\n",
       "      <td>56B</td>\n",
       "      <td>PUNERES04DEL01</td>\n",
       "      <td>29</td>\n",
       "      <td>4.6</td>\n",
       "      <td>-18.514210</td>\n",
       "      <td>73.838429</td>\n",
       "      <td>18.524210</td>\n",
       "      <td>73.848429</td>\n",
       "      <td>Drinks</td>\n",
       "      <td>electric_scooter</td>\n",
       "      <td>30</td>\n",
       "    </tr>\n",
       "    <tr>\n",
       "      <th>45108</th>\n",
       "      <td>C01B</td>\n",
       "      <td>GOARES18DEL01</td>\n",
       "      <td>29</td>\n",
       "      <td>4.6</td>\n",
       "      <td>-15.493950</td>\n",
       "      <td>-73.827423</td>\n",
       "      <td>15.563950</td>\n",
       "      <td>73.897423</td>\n",
       "      <td>Meal</td>\n",
       "      <td>scooter</td>\n",
       "      <td>19</td>\n",
       "    </tr>\n",
       "    <tr>\n",
       "      <th>45182</th>\n",
       "      <td>C0C7</td>\n",
       "      <td>KNPRES16DEL02</td>\n",
       "      <td>30</td>\n",
       "      <td>4.0</td>\n",
       "      <td>-26.482581</td>\n",
       "      <td>80.315628</td>\n",
       "      <td>26.532581</td>\n",
       "      <td>80.365628</td>\n",
       "      <td>Drinks</td>\n",
       "      <td>motorcycle</td>\n",
       "      <td>34</td>\n",
       "    </tr>\n",
       "    <tr>\n",
       "      <th>45504</th>\n",
       "      <td>461</td>\n",
       "      <td>BANGRES07DEL02</td>\n",
       "      <td>29</td>\n",
       "      <td>4.6</td>\n",
       "      <td>-12.978453</td>\n",
       "      <td>-77.643685</td>\n",
       "      <td>12.998453</td>\n",
       "      <td>77.663685</td>\n",
       "      <td>Meal</td>\n",
       "      <td>scooter</td>\n",
       "      <td>24</td>\n",
       "    </tr>\n",
       "  </tbody>\n",
       "</table>\n",
       "<p>431 rows × 11 columns</p>\n",
       "</div>"
      ],
      "text/plain": [
       "         id delivery_person_id  delivery_person_age  delivery_person_ratings  \\\n",
       "92     C042     AGRRES010DEL01                   34                      4.7   \n",
       "283    C044      AGRRES12DEL03                   32                      4.7   \n",
       "289     4DB     PUNERES02DEL03                   29                      4.6   \n",
       "425    C003      DEHRES13DEL02                   29                      4.6   \n",
       "534     473      MYSRES07DEL03                   29                      4.6   \n",
       "...     ...                ...                  ...                      ...   \n",
       "44933  C0C2     AURGRES03DEL03                   30                      4.9   \n",
       "45020   56B     PUNERES04DEL01                   29                      4.6   \n",
       "45108  C01B      GOARES18DEL01                   29                      4.6   \n",
       "45182  C0C7      KNPRES16DEL02                   30                      4.0   \n",
       "45504   461     BANGRES07DEL02                   29                      4.6   \n",
       "\n",
       "       restaurant_latitude  restaurant_longitude  delivery_location_latitude  \\\n",
       "92              -27.163303             78.057044                   27.233303   \n",
       "283             -27.165108             78.015053                   27.225108   \n",
       "289             -18.551440            -73.804855                   18.611440   \n",
       "425             -30.366322            -78.070453                   30.496322   \n",
       "534             -12.325461            -76.632278                   12.385461   \n",
       "...                    ...                   ...                         ...   \n",
       "44933           -19.874733             75.353942                   19.904733   \n",
       "45020           -18.514210             73.838429                   18.524210   \n",
       "45108           -15.493950            -73.827423                   15.563950   \n",
       "45182           -26.482581             80.315628                   26.532581   \n",
       "45504           -12.978453            -77.643685                   12.998453   \n",
       "\n",
       "       delivery_location_longitude type_of_order    type_of_vehicle  \\\n",
       "92                       78.127044       Drinks            scooter    \n",
       "283                      78.075053         Meal            scooter    \n",
       "289                      73.864855         Meal            scooter    \n",
       "425                      78.200453        Snack            scooter    \n",
       "534                      76.692278       Buffet            scooter    \n",
       "...                            ...           ...                ...   \n",
       "44933                    75.383942       Buffet         motorcycle    \n",
       "45020                    73.848429       Drinks   electric_scooter    \n",
       "45108                    73.897423         Meal            scooter    \n",
       "45182                    80.365628       Drinks         motorcycle    \n",
       "45504                    77.663685         Meal            scooter    \n",
       "\n",
       "       time_taken  \n",
       "92             15  \n",
       "283            31  \n",
       "289            12  \n",
       "425            20  \n",
       "534            16  \n",
       "...           ...  \n",
       "44933          15  \n",
       "45020          30  \n",
       "45108          19  \n",
       "45182          34  \n",
       "45504          24  \n",
       "\n",
       "[431 rows x 11 columns]"
      ]
     },
     "execution_count": 205,
     "metadata": {},
     "output_type": "execute_result"
    }
   ],
   "source": [
    "df.loc[df.restaurant_latitude < 0, :]"
   ]
  },
  {
   "cell_type": "markdown",
   "id": "82990640",
   "metadata": {},
   "source": [
    "As we can see here, the absolute vale of the restaurant latitude seems to be very close to delivery location latitude. As it is highly unlikely that the delivery has crossed the equator or the prime meridian, the values have to be corrected. The locations are likely all in India (for example, [30.496322, 78.200453] is in Uttarakhand), so both positive latitude and positive longitude is assumed.\n",
    "\n",
    "There are also many restaurants with a location of (0, 0). "
   ]
  },
  {
   "cell_type": "code",
   "execution_count": 206,
   "id": "607a8e48",
   "metadata": {},
   "outputs": [
    {
     "name": "stdout",
     "output_type": "stream",
     "text": [
      "count    3640.000000\n",
      "mean        0.063016\n",
      "std         0.036047\n",
      "min         0.010000\n",
      "25%         0.030000\n",
      "50%         0.060000\n",
      "75%         0.090000\n",
      "max         0.130000\n",
      "Name: delivery_location_latitude, dtype: float64\n",
      "count    3640.000000\n",
      "mean        0.063016\n",
      "std         0.036047\n",
      "min         0.010000\n",
      "25%         0.030000\n",
      "50%         0.060000\n",
      "75%         0.090000\n",
      "max         0.130000\n",
      "Name: delivery_location_longitude, dtype: float64\n"
     ]
    }
   ],
   "source": [
    "tmp = df.loc[df.restaurant_latitude == 0, :]\n",
    "\n",
    "print(tmp.delivery_location_latitude.describe())\n",
    "print(tmp.delivery_location_longitude.describe())"
   ]
  },
  {
   "cell_type": "markdown",
   "id": "a85eac2e",
   "metadata": {},
   "source": [
    "In these cases, the delivery location latitude and longitude are all positive and closeby.\n",
    "\n",
    "The absolute value of all location variables should be taken."
   ]
  },
  {
   "cell_type": "code",
   "execution_count": 207,
   "id": "8a8fe708",
   "metadata": {},
   "outputs": [],
   "source": [
    "df[\"restaurant_latitude\"] = df[\"restaurant_latitude\"].abs()\n",
    "df[\"restaurant_longitude\"] = df[\"restaurant_longitude\"].abs()\n",
    "df[\"delivery_location_latitude\"] = df[\"delivery_location_latitude\"].abs()\n",
    "df[\"delivery_location_longitude\"] = df[\"delivery_location_longitude\"].abs()"
   ]
  },
  {
   "cell_type": "markdown",
   "id": "e741c3d1",
   "metadata": {},
   "source": [
    "Finally, we can calculate the beeline distance."
   ]
  },
  {
   "cell_type": "code",
   "execution_count": 208,
   "id": "cd37780f",
   "metadata": {},
   "outputs": [
    {
     "data": {
      "text/plain": [
       "count    45593.000000\n",
       "mean         0.907852\n",
       "std         10.087993\n",
       "min          0.014141\n",
       "25%          0.042426\n",
       "50%          0.084853\n",
       "75%          0.127279\n",
       "max        182.546210\n",
       "dtype: float64"
      ]
     },
     "execution_count": 208,
     "metadata": {},
     "output_type": "execute_result"
    }
   ],
   "source": [
    "def calculate_distance(lat1, lat2, lon1, lon2):\n",
    "    \"\"\" Calculate the distance between two points using the haversine formula \"\"\"\n",
    "    lat1, lat2, lon1, lon2 = map(np.radians, [lat1, lat2, lon1, lon2])\n",
    "    \n",
    "    dlat = lat2 - lat1\n",
    "    dlon = lon2 - lon1\n",
    "    a = np.sin(dlat/2) ** 2 + np.cos(lat1) * np.cos(lat2) * np.sin(dlon/2) ** 2\n",
    "    b = 2 * np.arctan2(a ** 0.5, (1-a) ** 0.5)\n",
    "    \n",
    "    return b * 6371\n",
    "\n",
    "df[\"beeline_distance\"] = calculate_distance(df.restaurant_latitude, df.delivery_location_latitude, \n",
    "                                            df.restaurant_longitude, df.delivery_location_longitude)\n",
    "beeline_distance.describe()"
   ]
  },
  {
   "cell_type": "code",
   "execution_count": 209,
   "id": "300562da",
   "metadata": {},
   "outputs": [
    {
     "data": {
      "text/plain": [
       "<AxesSubplot:xlabel='beeline_distance', ylabel='time_taken'>"
      ]
     },
     "execution_count": 209,
     "metadata": {},
     "output_type": "execute_result"
    },
    {
     "data": {
      "image/png": "[encoded data removed]",
      "text/plain": [
       "<Figure size 432x288 with 1 Axes>"
      ]
     },
     "metadata": {},
     "output_type": "display_data"
    }
   ],
   "source": [
    "sns.regplot(x = df.beeline_distance, y = df.time_taken, \n",
    "            scatter_kws = {'alpha':0.01},\n",
    "            line_kws = {\"color\": 'red', \"linewidth\": 2})"
   ]
  },
  {
   "cell_type": "markdown",
   "id": "f9e9e983",
   "metadata": {},
   "source": [
    "There seems to be a positive association between the beeline distance and the time taken."
   ]
  },
  {
   "cell_type": "markdown",
   "id": "7c4740ad",
   "metadata": {},
   "source": [
    "### Restaurant location"
   ]
  },
  {
   "cell_type": "code",
   "execution_count": 210,
   "id": "b6c45717",
   "metadata": {},
   "outputs": [
    {
     "name": "stdout",
     "output_type": "stream",
     "text": [
      "389\n",
      "(0.0, 0.0)                3640\n",
      "(26.911378, 75.789034)     182\n",
      "(26.914142, 75.805704)     181\n",
      "(26.90294, 75.793007)      178\n",
      "(26.892312, 75.806896)     176\n",
      "                          ... \n",
      "(30.873988, 75.842739)      30\n",
      "(9.988483, 76.295211)       30\n",
      "(19.874449, 75.360232)      30\n",
      "(9.960846, 76.293936)       29\n",
      "(23.218998, 77.373573)      29\n",
      "Name: restaurant, Length: 389, dtype: int64\n"
     ]
    }
   ],
   "source": [
    "df[\"restaurant\"] = [f\"({row.restaurant_latitude}, {row.restaurant_longitude})\" for idx, row in df.iterrows()]\n",
    "print(df.restaurant.nunique())\n",
    "print(df.restaurant.value_counts())"
   ]
  },
  {
   "cell_type": "markdown",
   "id": "d15321ce",
   "metadata": {},
   "source": [
    "There are 389 restaurant locations in total. The most common restaurant location is (0, 0). This is likely not the real location of the restaurant, so the actual number of restaurants cannot be inferred from this."
   ]
  },
  {
   "cell_type": "markdown",
   "id": "b0c16af1",
   "metadata": {},
   "source": [
    "### Age and rating of delivery person"
   ]
  },
  {
   "cell_type": "code",
   "execution_count": 176,
   "id": "974966af",
   "metadata": {},
   "outputs": [
    {
     "data": {
      "text/plain": [
       "[Text(0.5, 1.0, 'Correlation Matrix')]"
      ]
     },
     "execution_count": 176,
     "metadata": {},
     "output_type": "execute_result"
    },
    {
     "data": {
      "image/png": "[encoded data removed]",
      "text/plain": [
       "<Figure size 432x288 with 2 Axes>"
      ]
     },
     "metadata": {},
     "output_type": "display_data"
    }
   ],
   "source": [
    "df_num = df[[\"time_taken\", \"delivery_person_age\", \"delivery_person_ratings\", \"beeline_distance\"]]\n",
    "corr_matrix = df_num.corr()\n",
    "heatplot = sns.heatmap(corr_matrix, cmap = \"vlag\", vmin = -1, vmax = 1)\n",
    "heatplot.set(title = \"Correlation Matrix\")"
   ]
  },
  {
   "cell_type": "markdown",
   "id": "53328fa4",
   "metadata": {},
   "source": [
    "- Older delivery persons take more time for the delivery\n",
    "- Delivery persons with high ratings deliver more quickly\n",
    "- The associations beetween the independent variables is low, so we expect no issues with multicollinearity"
   ]
  },
  {
   "cell_type": "code",
   "execution_count": 219,
   "id": "dc98fc4d",
   "metadata": {},
   "outputs": [
    {
     "name": "stdout",
     "output_type": "stream",
     "text": [
      "count    45593.000000\n",
      "mean         4.632367\n",
      "std          0.327708\n",
      "min          1.000000\n",
      "25%          4.600000\n",
      "50%          4.700000\n",
      "75%          4.800000\n",
      "max          6.000000\n",
      "Name: delivery_person_ratings, dtype: float64\n",
      "Number of people with a rating of 6: 53\n"
     ]
    }
   ],
   "source": [
    "print(df.delivery_person_ratings.describe())\n",
    "print(f\"Number of cases with a rating of 6: {sum(df.delivery_person_ratings == 6)}\")"
   ]
  },
  {
   "cell_type": "markdown",
   "id": "92640945",
   "metadata": {},
   "source": [
    "There are 53 cases with a rating of 6. A rating scale from 1 to 5 is uncommon, and the cases are very few, so this is probably a mistake. The rating is recoded to 5."
   ]
  },
  {
   "cell_type": "code",
   "execution_count": 220,
   "id": "6b9176fc",
   "metadata": {},
   "outputs": [],
   "source": [
    "df.loc[df.delivery_person_ratings == 6, \"delivery_person_ratings\"] = 5"
   ]
  },
  {
   "cell_type": "code",
   "execution_count": 221,
   "id": "7120f4d1",
   "metadata": {},
   "outputs": [
    {
     "data": {
      "text/plain": [
       "<AxesSubplot:xlabel='delivery_person_ratings', ylabel='time_taken'>"
      ]
     },
     "execution_count": 221,
     "metadata": {},
     "output_type": "execute_result"
    },
    {
     "data": {
      "image/png": "[encoded data removed]",
      "text/plain": [
       "<Figure size 432x288 with 1 Axes>"
      ]
     },
     "metadata": {},
     "output_type": "display_data"
    }
   ],
   "source": [
    "sns.scatterplot(x = df.delivery_person_ratings, y = df.time_taken, alpha = 0.005)"
   ]
  },
  {
   "cell_type": "code",
   "execution_count": 178,
   "id": "3e6487b2",
   "metadata": {},
   "outputs": [
    {
     "data": {
      "text/plain": [
       "<AxesSubplot:xlabel='delivery_person_age', ylabel='time_taken'>"
      ]
     },
     "execution_count": 178,
     "metadata": {},
     "output_type": "execute_result"
    },
    {
     "data": {
      "image/png": "[encoded data removed]",
      "text/plain": [
       "<Figure size 432x288 with 1 Axes>"
      ]
     },
     "metadata": {},
     "output_type": "display_data"
    }
   ],
   "source": [
    "sns.scatterplot(x = df.delivery_person_age, y = df.time_taken, alpha = 0.005)"
   ]
  },
  {
   "cell_type": "markdown",
   "id": "65c45bd5",
   "metadata": {},
   "source": [
    "## Save dataset"
   ]
  },
  {
   "cell_type": "code",
   "execution_count": 222,
   "id": "97220bcd",
   "metadata": {},
   "outputs": [
    {
     "name": "stdout",
     "output_type": "stream",
     "text": [
      "Index(['id', 'delivery_person_id', 'delivery_person_age',\n",
      "       'delivery_person_ratings', 'restaurant_latitude',\n",
      "       'restaurant_longitude', 'delivery_location_latitude',\n",
      "       'delivery_location_longitude', 'type_of_order', 'type_of_vehicle',\n",
      "       'time_taken', 'beeline_distance', 'restaurant'],\n",
      "      dtype='object')\n",
      "Index(['type_of_order_Buffet', 'type_of_order_Meal', 'type_of_order_Snack',\n",
      "       'type_of_vehicle_bicycle', 'type_of_vehicle_electric_scooter',\n",
      "       'type_of_vehicle_scooter'],\n",
      "      dtype='object')\n"
     ]
    }
   ],
   "source": [
    "print(df.columns)\n",
    "print(cat_cols_dummy.columns)"
   ]
  },
  {
   "cell_type": "code",
   "execution_count": 224,
   "id": "8f644a6b",
   "metadata": {},
   "outputs": [
    {
     "data": {
      "text/html": [
       "<div>\n",
       "<style scoped>\n",
       "    .dataframe tbody tr th:only-of-type {\n",
       "        vertical-align: middle;\n",
       "    }\n",
       "\n",
       "    .dataframe tbody tr th {\n",
       "        vertical-align: top;\n",
       "    }\n",
       "\n",
       "    .dataframe thead th {\n",
       "        text-align: right;\n",
       "    }\n",
       "</style>\n",
       "<table border=\"1\" class=\"dataframe\">\n",
       "  <thead>\n",
       "    <tr style=\"text-align: right;\">\n",
       "      <th></th>\n",
       "      <th>time_taken</th>\n",
       "      <th>delivery_person_age</th>\n",
       "      <th>delivery_person_ratings</th>\n",
       "      <th>beeline_distance</th>\n",
       "      <th>type_of_order_Buffet</th>\n",
       "      <th>type_of_order_Meal</th>\n",
       "      <th>type_of_order_Snack</th>\n",
       "      <th>type_of_vehicle_bicycle</th>\n",
       "      <th>type_of_vehicle_electric_scooter</th>\n",
       "      <th>type_of_vehicle_scooter</th>\n",
       "    </tr>\n",
       "  </thead>\n",
       "  <tbody>\n",
       "    <tr>\n",
       "      <th>0</th>\n",
       "      <td>24</td>\n",
       "      <td>37</td>\n",
       "      <td>4.9</td>\n",
       "      <td>3.025149</td>\n",
       "      <td>0</td>\n",
       "      <td>0</td>\n",
       "      <td>1</td>\n",
       "      <td>0</td>\n",
       "      <td>0</td>\n",
       "      <td>0</td>\n",
       "    </tr>\n",
       "    <tr>\n",
       "      <th>1</th>\n",
       "      <td>33</td>\n",
       "      <td>34</td>\n",
       "      <td>4.5</td>\n",
       "      <td>20.183530</td>\n",
       "      <td>0</td>\n",
       "      <td>0</td>\n",
       "      <td>1</td>\n",
       "      <td>0</td>\n",
       "      <td>0</td>\n",
       "      <td>1</td>\n",
       "    </tr>\n",
       "    <tr>\n",
       "      <th>2</th>\n",
       "      <td>26</td>\n",
       "      <td>23</td>\n",
       "      <td>4.4</td>\n",
       "      <td>1.552758</td>\n",
       "      <td>0</td>\n",
       "      <td>0</td>\n",
       "      <td>0</td>\n",
       "      <td>0</td>\n",
       "      <td>0</td>\n",
       "      <td>0</td>\n",
       "    </tr>\n",
       "    <tr>\n",
       "      <th>3</th>\n",
       "      <td>21</td>\n",
       "      <td>38</td>\n",
       "      <td>4.7</td>\n",
       "      <td>7.790401</td>\n",
       "      <td>1</td>\n",
       "      <td>0</td>\n",
       "      <td>0</td>\n",
       "      <td>0</td>\n",
       "      <td>0</td>\n",
       "      <td>0</td>\n",
       "    </tr>\n",
       "    <tr>\n",
       "      <th>4</th>\n",
       "      <td>30</td>\n",
       "      <td>32</td>\n",
       "      <td>4.6</td>\n",
       "      <td>6.210138</td>\n",
       "      <td>0</td>\n",
       "      <td>0</td>\n",
       "      <td>1</td>\n",
       "      <td>0</td>\n",
       "      <td>0</td>\n",
       "      <td>1</td>\n",
       "    </tr>\n",
       "  </tbody>\n",
       "</table>\n",
       "</div>"
      ],
      "text/plain": [
       "   time_taken  delivery_person_age  delivery_person_ratings  beeline_distance  \\\n",
       "0          24                   37                      4.9          3.025149   \n",
       "1          33                   34                      4.5         20.183530   \n",
       "2          26                   23                      4.4          1.552758   \n",
       "3          21                   38                      4.7          7.790401   \n",
       "4          30                   32                      4.6          6.210138   \n",
       "\n",
       "   type_of_order_Buffet  type_of_order_Meal  type_of_order_Snack  \\\n",
       "0                     0                   0                    1   \n",
       "1                     0                   0                    1   \n",
       "2                     0                   0                    0   \n",
       "3                     1                   0                    0   \n",
       "4                     0                   0                    1   \n",
       "\n",
       "   type_of_vehicle_bicycle  type_of_vehicle_electric_scooter  \\\n",
       "0                        0                                 0   \n",
       "1                        0                                 0   \n",
       "2                        0                                 0   \n",
       "3                        0                                 0   \n",
       "4                        0                                 0   \n",
       "\n",
       "   type_of_vehicle_scooter  \n",
       "0                        0  \n",
       "1                        1  \n",
       "2                        0  \n",
       "3                        0  \n",
       "4                        1  "
      ]
     },
     "execution_count": 224,
     "metadata": {},
     "output_type": "execute_result"
    }
   ],
   "source": [
    "df_finished = pd.concat([\n",
    "    df[[\"time_taken\", \"delivery_person_age\", \"delivery_person_ratings\", \"beeline_distance\"]],\n",
    "    cat_cols_dummy\n",
    "], axis = 1)\n",
    "df_finished.head()"
   ]
  },
  {
   "cell_type": "code",
   "execution_count": 225,
   "id": "61f95c20",
   "metadata": {},
   "outputs": [],
   "source": [
    "df_finished.to_csv(\"data/deliverytime_processed.csv\")"
   ]
  }
 ],
 "metadata": {
  "kernelspec": {
   "display_name": "Python 3 (ipykernel)",
   "language": "python",
   "name": "python3"
  },
  "language_info": {
   "codemirror_mode": {
    "name": "ipython",
    "version": 3
   },
   "file_extension": ".py",
   "mimetype": "text/x-python",
   "name": "python",
   "nbconvert_exporter": "python",
   "pygments_lexer": "ipython3",
   "version": "3.9.12"
  }
 },
 "nbformat": 4,
 "nbformat_minor": 5
}
